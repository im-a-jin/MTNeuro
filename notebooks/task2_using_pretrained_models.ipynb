{
 "cells": [
  {
   "cell_type": "markdown",
   "metadata": {
    "id": "8JoMV7mwBJWI"
   },
   "source": [
    "# Running Task 2 with a Pre-Trained Model\n",
    "\n",
    "This notebook walks through an example of utilizing the existing trained models ([pre-trained weights](https://www.dropbox.com/sh/pzza5nuh93r9s18/AAAZsISLUl1H_u3U0TDSeOjNa?dl=0)) to perform pixel-level brain microstructure (blood-vessel, cell, axon) segmentations.\n",
    "\n",
    "## Intro\n",
    "\n",
    "In MTNeuro, we provied multiple tasks to evaluate the model across multiple scales and capabilities. This notebook deals with `Task 2`, .i.e, the **Pixel Level Brain Microstructure Segmentation Task**, and provides methods to download and load the pretrained weights and models configs to easily perform pixel-level segmentation and explore the outcomes.\n",
    "\n",
    "#### Citation\n",
    "For more details about `Task 2` and the other tasks, please refer:\n",
    "\n",
    "```\n",
    "Quesada, J., Sathidevi, L., Liu, R., Ahad, N., Jackson, J.M., Azabou, M., ... & Dyer, E. L. (2022). MTNeuro: A Benchmark for Evaluating Representations of Brain Structure Across Multiple Levels of Abstraction. Thirty-sixth Conference on Neural Information Processing Systems Datasets and Benchmarks Track.\n",
    "\n",
    "Prasad, J. A., Balwani, A. H., Johnson, E. C., Miano, J. D., Sampathkumar, V., De Andrade, V., ... & Dyer, E. L. (2020). A three-dimensional thalamocortical dataset for characterizing brain heterogeneity. Scientific Data, 7(1), 1-7.\n",
    "```\n"
   ]
  },
  {
   "cell_type": "markdown",
   "metadata": {
    "id": "50LV7mP7BXUG"
   },
   "source": [
    "### Specifying the Model, Setting, and Mode for Image Segmentation\n",
    "\n",
    "\n",
    "**3class Setting**: Segmentation using 3 labels - cell bodies, blood vessels and background (axons considered as background)\n",
    "\n",
    "**4class Setting**: Segmentation using 4 labels - cell bodies, blood vessels, axons and background. In this setting the ZI region is excluded as clearly distinguishing the axons in the slices from ZI region would be difficult even for a knowledgeable human annotator.\n",
    "\n",
    "**Available Options**:\n",
    "\n",
    "2D Models | 3D Models | Settings | Modes\n",
    "----------|-----------|----------|--------\n",
    "UNet | UNet | 3class | 2D\n",
    "smp_UnetPlusPlus | mzp_HighResNet | 4class | 3D\n",
    "smp_PSPNet | mzp_VNetLight |\n",
    "smp_PAN |\n",
    "smp_FPN |\n",
    "smp_MAnet |\n",
    "\n",
    "Note: `smp` indicates models imported from [segmentation_models.pytorch](https://github.com/qubvel/segmentation_models.pytorch) library and `mzp` indicates models imported from [medicalzoopytorch](https://github.com/black0017/MedicalZooPytorch) library.\n",
    "\n",
    "Specify your preferred model and setting below (refer to table above for available options):"
   ]
  },
  {
   "cell_type": "code",
   "execution_count": 1,
   "metadata": {
    "id": "X_rFC-9pprOk"
   },
   "outputs": [],
   "source": [
    "Model = 'UNet'         #Eg:- UNet, smp_PAN\n",
    "Setting = '3class'     #Eg:- 3class, 4class\n",
    "Mode = '2D'            #Eg:- 3D, 2D\n",
    "\n",
    "fh = open('config.txt', 'w')\n",
    "fh.write(Model+' '+Setting+' '+Mode)\n",
    "fh.close()"
   ]
  },
  {
   "cell_type": "markdown",
   "metadata": {},
   "source": [
    "### Cloning Required Repositories, Installing Libraries and Dependencies, and Importing Packages\n",
    "\n",
    "Installing required packages:"
   ]
  },
  {
   "cell_type": "code",
   "execution_count": null,
   "metadata": {},
   "outputs": [],
   "source": [
    "# If not already installed, Download and install Pytorch with CUDA support: https://pytorch.org/get-started/locally/\n",
    "    \n",
    "!pip install intern[cloudvolume]\n",
    "!pip install scikit-learn\n",
    "!pip install timm\n",
    "!pip install pretrainedmodels\n",
    "!pip install efficientnet_pytorch\n",
    "\n",
    "# Setting up the segmentation_models.pytorch library\n",
    "!pip install segmentation-models-pytorch\n",
    "\n",
    "#setting up medicalzoopytorch\n",
    "!pip install github-clone\n",
    "!ghclone https://github.com/black0017/MedicalZooPytorch/tree/master/lib/medzoo"
   ]
  },
  {
   "cell_type": "markdown",
   "metadata": {},
   "source": [
    "Import the required Packages:"
   ]
  },
  {
   "cell_type": "code",
   "execution_count": null,
   "metadata": {},
   "outputs": [],
   "source": [
    "#import libraries\n",
    "import sys\n",
    "import matplotlib.pyplot as plt\n",
    "import numpy as np\n",
    "import json as json\n",
    "from tqdm import tqdm\n",
    "import glob\n",
    "\n",
    "#pytorch imports\n",
    "import torch\n",
    "from torchvision import transforms\n",
    "from torchvision.transforms import ToTensor\n",
    "from torch.utils.data import Dataset, DataLoader\n",
    "\n",
    "#intern library that is used to pull 3D brain volume form BossDB\n",
    "from intern import array"
   ]
  },
  {
   "cell_type": "markdown",
   "metadata": {},
   "source": [
    "Import the required models / their respective libraries, and the BossDB dataloader (used to download the required slices of brain imaging data from BossDB):"
   ]
  },
  {
   "cell_type": "code",
   "execution_count": null,
   "metadata": {},
   "outputs": [],
   "source": [
    "#importing HighResNet and VNetLight models from medzoopytorch library\n",
    "sys.path.append('lib/medzoo')\n",
    "from HighResNet3D import HighResNet3D\n",
    "from Vnet import VNetLight\n",
    "\n",
    "sys.path.append('../MTNeuro/')                 #setting the location to look for the required packages\n",
    "\n",
    "#BossDB library and MTNeuro dataset loader\n",
    "from bossdbdataset import BossDBDataset               \n",
    "\n",
    "from models.unet import UNet                   #UNet model. From: https://github.com/johschmidt42/PyTorch-2D-3D-UNet-Tutorial\n",
    "import segmentation_models_pytorch as smp      #SMP library: https://github.com/qubvel/segmentation_models.pytorch"
   ]
  },
  {
   "cell_type": "markdown",
   "metadata": {},
   "source": [
    "### Download the Trained Weights\n",
    "\n",
    "The trained weights and configuration files for the models can be downloaded from: [Link](https://www.dropbox.com/sh/pzza5nuh93r9s18/AAAZsISLUl1H_u3U0TDSeOjNa?dl=0). \n",
    "\n",
    "Below script automatically does that for you (using the model and setting specified earlier):"
   ]
  },
  {
   "cell_type": "code",
   "execution_count": 3,
   "metadata": {
    "colab": {
     "base_uri": "https://localhost:8080/"
    },
    "id": "n22xtELH1fHV",
    "outputId": "b07859cd-31ed-49a2-f6ab-3b4600c9a873"
   },
   "outputs": [
    {
     "ename": "SyntaxError",
     "evalue": "invalid syntax (2680183395.py, line 8)",
     "output_type": "error",
     "traceback": [
      "\u001b[0;36m  Input \u001b[0;32mIn [3]\u001b[0;36m\u001b[0m\n\u001b[0;31m    IFS=' ' read -r model setting mode <<< `cat config.txt`\u001b[0m\n\u001b[0m            ^\u001b[0m\n\u001b[0;31mSyntaxError\u001b[0m\u001b[0;31m:\u001b[0m invalid syntax\n"
     ]
    }
   ],
   "source": [
    "%%bash\n",
    "IFS=' ' read -r model setting mode <<< `cat config.txt`\n",
    "#echo $model\n",
    "#eho $setting\n",
    "#echo $mode\n",
    "rm -f *.json\n",
    "if [ \"$mode\" == \"2D\" ]; then\n",
    "  if [ \"$setting\" == \"3class\" ]; then\n",
    "    if [ \"$model\" == \"UNet\" ]; then\n",
    "      echo \"Loading $model $mode $setting\" && wget https://www.dropbox.com/s/7zwh7j43ozui7t1/UNet_2D_3class.pt -q --show-progress --progress=dot \n",
    "      wget https://www.dropbox.com/s/7edhhxr7o9iqear/UNet_2D_3class.json -q --show-progress --progress=dot\n",
    "    elif [ \"$model\" == \"smp_UnetPlusPlus\" ]; then\n",
    "      echo \"Loading $model $mode $setting\" && wget https://www.dropbox.com/s/r0v3vvwlqelpbac/smp_UnetPlusPlus_3class.pt -q --show-progress --progress=dot\n",
    "      wget https://www.dropbox.com/s/aneo0ld7e13sq8p/smp_UnetPlusPlus_3class.json -q --show-progress --progress=dot\n",
    "    elif [ \"$model\" == \"smp_PSPNet\" ]; then\n",
    "      echo \"Loading $model $mode $setting\" && wget https://www.dropbox.com/s/h4qmkbj7y878ivt/smp_PSPNet_3class.pt -q --show-progress --progress=dot\n",
    "      wget https://www.dropbox.com/s/7jg2tjyji2j7hlx/smp_PSPNet_3class.json -q --show-progress --progress=dot\n",
    "    elif [ \"$model\" == \"smp_PAN\" ]; then\n",
    "      echo \"Loading $model $mode $setting\" && wget https://www.dropbox.com/s/xph537dtsq1qxja/smp_PAN_3class.pt -q --show-progress --progress=dot\n",
    "      wget https://www.dropbox.com/s/ztndoyzgm464exs/smp_PAN_3class.json -q --show-progress --progress=dot\n",
    "    elif [ \"$model\" == \"smp_FPN\" ]; then\n",
    "      echo \"Loading $model $mode $setting\" && wget https://www.dropbox.com/s/iu8ute75j4tbpxf/smp_FPN_3class.pt -q --show-progress --progress=dot\n",
    "      wget https://www.dropbox.com/s/4d1cmksl887ltir/smp_FPN_3class.json -q --show-progress --progress=dot\n",
    "    elif [ \"$model\" == \"smp_MAnet\" ]; then\n",
    "      echo \"Loading $model $mode $setting\" && wget https://www.dropbox.com/s/d9kll74duwo2cbr/smp_MAnet_3class.pt -q --show-progress --progress=dot\n",
    "      wget https://www.dropbox.com/s/yf9gf8kdk3ad4uk/smp_MAnet_3class.json -q --show-progress --progress=dot\n",
    "    fi\n",
    "  elif [ \"$setting\" == \"4class\" ]; then\n",
    "    if [ \"$model\" == \"UNet\" ]; then\n",
    "      echo \"Loading $model $mode $setting\"\n",
    "      wget https://www.dropbox.com/s/xd0hgpq36hjjt21/UNet_2D_noZI.pt -q --show-progress --progress=dot\n",
    "      wget https://www.dropbox.com/s/30ofn890moxxyzp/UNet_2D.json -q --show-progress --progress=dot\n",
    "    elif [ \"$model\" == \"smp_UnetPlusPlus\" ]; then\n",
    "      echo \"Loading $model $mode $setting\"\n",
    "      wget https://www.dropbox.com/s/7rbhu074454h6we/smp_UnetPlusPlus_noZI.pt -q --show-progress --progress=dot\n",
    "      wget https://www.dropbox.com/s/8fugnn18127rvg4/smp_UnetPlusPlus.json -q --show-progress --progress=dot\n",
    "    elif [ \"$model\" == \"smp_PSPNet\" ]; then\n",
    "      echo \"Loading $model $mode $setting\"\n",
    "      wget https://www.dropbox.com/s/u043cojfd12xkoc/smp_PSPNet_noZI.pt -q --show-progress --progress=dot\n",
    "      wget https://www.dropbox.com/s/114iwuka5gjf5fj/smp_PSPNet.json -q --show-progress --progress=dot\n",
    "    elif [ \"$model\" == \"smp_PAN\" ]; then\n",
    "      echo \"Loading $model $mode $setting\"\n",
    "      wget https://www.dropbox.com/s/w5fi601apllhzka/smp_PAN_noZI.pt -q --show-progress --progress=dot\n",
    "      wget https://www.dropbox.com/s/8pq5epecvm0sndj/smp_PAN.json -q --show-progress --progress=dot\n",
    "    elif [ \"$model\" == \"smp_FPN\" ]; then\n",
    "      echo \"Loading $model $mode $setting\"\n",
    "      wget https://www.dropbox.com/s/k14btyrs4lif0z0/smp_FPN_noZI.pt -q --show-progress --progress=dot\n",
    "      wget https://www.dropbox.com/s/u1ivarsp1m6h8nd/smp_FPN.json -q --show-progress --progress=dot\n",
    "    elif [ \"$model\" == \"smp_MAnet\" ]; then\n",
    "      echo \"Loading $model $mode $setting\"\n",
    "      wget https://www.dropbox.com/s/3qyxozy02app7e6/smp_MAnet_noZI.pt -q --show-progress --progress=dot\n",
    "      wget https://www.dropbox.com/s/usxyqpwho8k2tc0/smp_MAnet.json -q --show-progress --progress=dot\n",
    "    fi\n",
    "  fi\n",
    "elif [ \"$mode\" == \"3D\" ]; then\n",
    "  if [ \"$setting\" == \"3class\" ]; then\n",
    "    if [ \"$model\" == \"mzp_HighResNet\" ]; then\n",
    "      echo \"Loading $model $mode $setting\"\n",
    "      wget https://www.dropbox.com/s/ffblz0irsjemvpw/mzp_HighResNet_3D_3class.pt -q --show-progress --progress=dot\n",
    "      wget https://www.dropbox.com/s/u13ezr19azk1a8w/mzp_HighResNet_3D_3class.json -q --show-progress --progress=dot\n",
    "    elif [ \"$model\" == \"mzp_VNetLight\" ]; then\n",
    "      echo \"Loading $model $mode $setting\"\n",
    "      wget https://www.dropbox.com/s/otrga1kr9lishim/mzp_VNetLight_3D_3class.pt -q --show-progress --progress=dot\n",
    "      wget https://www.dropbox.com/s/71f5sae3l9hl4a0/mzp_VNetLight_3D_3class.json -q --show-progress --progress=dot\n",
    "    elif [ \"$model\" == \"UNet\" ]; then\n",
    "      echo \"Loading $model $mode $setting\"\n",
    "      wget https://www.dropbox.com/s/f5db56f41pcmyxo/UNet_3D_3class.pt -q --show-progress --progress=dot\n",
    "      wget https://www.dropbox.com/s/v7360u0g62d19h3/UNet_3D_3class.json -q --show-progress --progress=dot\n",
    "    fi\n",
    "  elif [ \"$setting\" == \"4class\" ]; then\n",
    "    if [ \"$model\" == \"mzp_HighResNet\" ]; then\n",
    "      echo \"Loading $model $mode $setting\"\n",
    "      wget https://www.dropbox.com/s/255medlec507t33/mzp_HighResNet_3D_noZI.pt -q --show-progress --progress=dot\n",
    "      wget https://www.dropbox.com/s/kgkw0f28eppr7j8/mzp_HighResNet_3D.json -q --show-progress --progress=dot\n",
    "    elif [ \"$model\" == \"mzp_VNetLight\" ]; then\n",
    "      echo \"Loading $model $mode $setting\"\n",
    "      wget https://www.dropbox.com/s/1xbmjcvjpi5fix5/mzp_VNetLight_3D_noZI.pt -q --show-progress --progress=dot\n",
    "      wget https://www.dropbox.com/s/tt2xocpu18gokmw/mzp_VNetLight_3D.json -q --show-progress --progress=dot\n",
    "    elif [ \"$model\" == \"UNet\" ]; then\n",
    "      echo \"Loading $model $model $mode $setting\"\n",
    "      wget https://www.dropbox.com/s/grlqwue5s2sttyb/UNet_3D_noZI.pt -q --show-progress --progress=dot\n",
    "      wget https://www.dropbox.com/s/0ab9t3oeo66zkz5/UNet_3D.json -q --show-progress --progress=dot\n",
    "    fi\n",
    "  fi\n",
    "fi"
   ]
  },
  {
   "cell_type": "markdown",
   "metadata": {
    "id": "cYsbDYK2BgDS"
   },
   "source": [
    "### Load the appropriate Configuration File\n",
    "\n",
    "**task config**: Settings corresponding to the task, like the x, y and z region of the slices. [Example](https://github.com/MTNeuro/MTNeuro/blob/main/MTNeuro/taskconfig/task2_2D_3class.json)\n",
    "\n",
    "**network config**: Settings corresponding to the model and the training, like model layer sizes, training batch size, etc. [Example](https://github.com/MTNeuro/MTNeuro/blob/main/MTNeuro/networkconfig/UNet_2D_3class.json)"
   ]
  },
  {
   "cell_type": "code",
   "execution_count": 4,
   "metadata": {
    "id": "0cAm0W6krI8P"
   },
   "outputs": [
    {
     "ename": "NameError",
     "evalue": "name 'json' is not defined",
     "output_type": "error",
     "traceback": [
      "\u001b[0;31m---------------------------------------------------------------------------\u001b[0m",
      "\u001b[0;31mNameError\u001b[0m                                 Traceback (most recent call last)",
      "Input \u001b[0;32mIn [4]\u001b[0m, in \u001b[0;36m<cell line: 2>\u001b[0;34m()\u001b[0m\n\u001b[1;32m      1\u001b[0m \u001b[38;5;66;03m##load the task config for specified mode and setting that specifies the x,y ranges to pick from the data for forming the slices\u001b[39;00m\n\u001b[0;32m----> 2\u001b[0m task_config \u001b[38;5;241m=\u001b[39m \u001b[43mjson\u001b[49m\u001b[38;5;241m.\u001b[39mload(\u001b[38;5;28mopen\u001b[39m(\u001b[38;5;124m'\u001b[39m\u001b[38;5;124m../MTNeuro/taskconfig/task2_\u001b[39m\u001b[38;5;124m'\u001b[39m\u001b[38;5;241m+\u001b[39m\u001b[38;5;28mstr\u001b[39m(Mode)\u001b[38;5;241m+\u001b[39m\u001b[38;5;124m'\u001b[39m\u001b[38;5;124m_\u001b[39m\u001b[38;5;124m'\u001b[39m\u001b[38;5;241m+\u001b[39m\u001b[38;5;28mstr\u001b[39m(Setting)\u001b[38;5;241m+\u001b[39m\u001b[38;5;124m'\u001b[39m\u001b[38;5;124m.json\u001b[39m\u001b[38;5;124m'\u001b[39m))\n\u001b[1;32m      4\u001b[0m \u001b[38;5;66;03m##Load the network config for the specified mode and setting, with the batch size and model config information\u001b[39;00m\n\u001b[1;32m      5\u001b[0m network_config \u001b[38;5;241m=\u001b[39m json\u001b[38;5;241m.\u001b[39mload(\u001b[38;5;28mopen\u001b[39m(glob\u001b[38;5;241m.\u001b[39mglob(\u001b[38;5;124m\"\u001b[39m\u001b[38;5;124m*.json\u001b[39m\u001b[38;5;124m\"\u001b[39m)[\u001b[38;5;241m0\u001b[39m]))\n",
      "\u001b[0;31mNameError\u001b[0m: name 'json' is not defined"
     ]
    }
   ],
   "source": [
    "##load the task config for specified mode and setting that specifies the x,y ranges to pick from the data for forming the slices\n",
    "task_config = json.load(open('../MTNeuro/taskconfig/task2_'+str(Mode)+'_'+str(Setting)+'.json'))\n",
    "\n",
    "##Load the network config for the specified mode and setting, with the batch size and model config information\n",
    "network_config = json.load(open(glob.glob(\"*.json\")[0]))"
   ]
  },
  {
   "cell_type": "markdown",
   "metadata": {
    "id": "8snEjb_3Bk_l"
   },
   "source": [
    "### Load the Model and the corresponding pre-trained weights"
   ]
  },
  {
   "cell_type": "markdown",
   "metadata": {
    "id": "a741Xg1_ByPQ"
   },
   "source": [
    "#### Loading the Model"
   ]
  },
  {
   "cell_type": "code",
   "execution_count": 19,
   "metadata": {
    "colab": {
     "base_uri": "https://localhost:8080/"
    },
    "id": "ML4xV1aRr7cW",
    "outputId": "4a281e0f-27ea-4c18-f895-693587da663d"
   },
   "outputs": [
    {
     "name": "stdout",
     "output_type": "stream",
     "text": [
      "loading UNet model\n"
     ]
    }
   ],
   "source": [
    "# Specify device\n",
    "device = torch.device('cuda') if torch.cuda.is_available() else  torch.device('cpu')\n",
    "\n",
    "# Specify model\n",
    "if network_config[\"model\"] == \"UNet\":\n",
    "  print('loading UNet model')\n",
    "  model = UNet(in_channels=network_config['in_channels'],\n",
    "                out_channels=network_config['classes'],\n",
    "                n_blocks=network_config['n_blocks'],\n",
    "                start_filters=network_config['start_filters'],\n",
    "                activation=network_config['activation'],\n",
    "                normalization=network_config['normalization'],\n",
    "                conv_mode=network_config['conv_mode'],\n",
    "                dim=network_config['dim']).to(device)\n",
    "\n",
    "if network_config[\"model\"] == \"smp_UnetPlusPlus\":\n",
    "  print('loading UnetPlusPlus model')\n",
    "  model = smp.UnetPlusPlus(\n",
    "            encoder_name=network_config[\"encoder_name\"],         # choose encoder, e.g. mobilenet_v2 or efficientnet-b7\n",
    "            encoder_weights=network_config[\"encoder_weights\"],   # use `imagenet` pre-trained weights for encoder initialization\n",
    "            in_channels=network_config[\"in_channels\"],           # model input channels (1 for gray-scale images, 3 for RGB, etc.)\n",
    "            classes=network_config[\"classes\"],                   # model output channels (number of classes in your dataset)\n",
    "        ).to(device)\n",
    "\n",
    "if network_config[\"model\"] == \"smp_MAnet\":\n",
    "  print('loading MAnet model')\n",
    "  model = smp.MAnet(\n",
    "            encoder_name=network_config[\"encoder_name\"],         # choose encoder, e.g. mobilenet_v2 or efficientnet-b7\n",
    "            encoder_weights=network_config[\"encoder_weights\"],   # use `imagenet` pre-trained weights for encoder initialization\n",
    "            in_channels=network_config[\"in_channels\"],           # model input channels (1 for gray-scale images, 3 for RGB, etc.)\n",
    "            classes=network_config[\"classes\"],                   # model output channels (number of classes in your dataset)\n",
    "        ).to(device)\n",
    "\n",
    "if network_config[\"model\"] == \"smp_PAN\":\n",
    "  print('loading PAN model')\n",
    "  model = smp.PAN(\n",
    "            encoder_name=network_config[\"encoder_name\"],         # choose encoder, e.g. mobilenet_v2 or efficientnet-b7\n",
    "            encoder_weights=network_config[\"encoder_weights\"],   # use `imagenet` pre-trained weights for encoder initialization\n",
    "            in_channels=network_config[\"in_channels\"],           # model input channels (1 for gray-scale images, 3 for RGB, etc.)\n",
    "            classes=network_config[\"classes\"],                   # model output channels (number of classes in your dataset)\n",
    "        ).to(device)\n",
    "\n",
    "if network_config[\"model\"] == \"smp_Linknet\":\n",
    "  print('loading Linknet model')\n",
    "  model = smp.Linknet(\n",
    "            encoder_name=network_config[\"encoder_name\"],         # choose encoder, e.g. mobilenet_v2 or efficientnet-b7\n",
    "            encoder_weights=network_config[\"encoder_weights\"],   # use `imagenet` pre-trained weights for encoder initialization\n",
    "            in_channels=network_config[\"in_channels\"],           # model input channels (1 for gray-scale images, 3 for RGB, etc.)\n",
    "            classes=network_config[\"classes\"],                   # model output channels (number of classes in your dataset)\n",
    "        ).to(device)\n",
    "\n",
    "if network_config[\"model\"] == \"smp_FPN\":\n",
    "  print('loading FPN model')\n",
    "  model = smp.FPN(\n",
    "            encoder_name=network_config[\"encoder_name\"],         # choose encoder, e.g. mobilenet_v2 or efficientnet-b7\n",
    "            encoder_weights=network_config[\"encoder_weights\"],   # use `imagenet` pre-trained weights for encoder initialization\n",
    "            in_channels=network_config[\"in_channels\"],           # model input channels (1 for gray-scale images, 3 for RGB, etc.)\n",
    "            classes=network_config[\"classes\"],                   # model output channels (number of classes in your dataset)\n",
    "        ).to(device)\n",
    "\n",
    "if network_config[\"model\"] == \"smp_PSPNet\":\n",
    "  print('loading PSPNet model')\n",
    "  model = smp.PSPNet(\n",
    "            encoder_name=network_config[\"encoder_name\"],        # choose encoder, e.g. mobilenet_v2 or efficientnet-b7\n",
    "            encoder_weights=network_config[\"encoder_weights\"],     # use `imagenet` pre-trained weights for encoder initialization\n",
    "            in_channels=network_config[\"in_channels\"],                  # model input channels (1 for gray-scale images, 3 for RGB, etc.)\n",
    "            classes=network_config[\"classes\"],                      # model output channels (number of classes in your dataset)\n",
    "        ).to(device)\n",
    "\n",
    "if network_config[\"model\"] == 'mzp_VNetLight_3D':\n",
    "  model= VNetLight(in_channels=network_config[\"in_channels\"], elu=False, classes=network_config[\"classes\"]).to(device)\n",
    "\n",
    "if network_config[\"model\"] == \"mzp_HighResNet_3D\":\n",
    "  model= HighResNet3D(in_channels=network_config[\"in_channels\"], classes=network_config[\"classes\"]).to(device)"
   ]
  },
  {
   "cell_type": "markdown",
   "metadata": {
    "id": "_g-NVRH0B2HG"
   },
   "source": [
    "#### Loading the pre-trained weights to the model"
   ]
  },
  {
   "cell_type": "code",
   "execution_count": 21,
   "metadata": {
    "id": "pGUAaEds-zJA"
   },
   "outputs": [
    {
     "name": "stdout",
     "output_type": "stream",
     "text": [
      "Successfully loaded pre-trained weights into the Model\n"
     ]
    }
   ],
   "source": [
    "#load saved weights here. Example path (after download): Models/Task2/2D/UNet_2D/3_Class_Setting/smp_UNet_2D_3class_seed1/UNet_2D_3class.pt\n",
    "if Mode=='3D':\n",
    "  if Setting=='4class':\n",
    "    checkpoint = torch.load(str(Model)+'_'+str(Mode)+'_noZI.pt', map_location='cuda:0')\n",
    "    model.load_state_dict(checkpoint)\n",
    "  if Setting=='3class':\n",
    "    checkpoint = torch.load(str(Model)+'_'+str(Mode)+'_3class.pt', map_location='cuda:0')\n",
    "    model.load_state_dict(checkpoint)\n",
    "if Mode=='2D':\n",
    "  if Setting=='3class' and Model == \"UNet\":\n",
    "    checkpoint = torch.load(str(Model)+'_'+str(Mode)+'_'+str(Setting)+'.pt', map_location='cuda:0')\n",
    "    model.load_state_dict(checkpoint)\n",
    "  elif Setting=='3class':\n",
    "    checkpoint = torch.load(str(Model)+'_'+str(Setting)+'.pt', map_location='cuda:0')\n",
    "    model.load_state_dict(checkpoint)\n",
    "  elif Setting=='4class' and Model==\"UNet\":\n",
    "    checkpoint = torch.load(str(Model)+'_'+str(Mode)+'_noZI.pt', map_location='cuda:0')\n",
    "    model.load_state_dict(checkpoint)\n",
    "  else:\n",
    "   checkpoint = torch.load(str(Model)+'_noZI.pt', map_location='cuda:0')\n",
    "   model.load_state_dict(checkpoint)\n",
    "print('Successfully loaded pre-trained weights into the Model')"
   ]
  },
  {
   "cell_type": "markdown",
   "metadata": {
    "id": "tHJ6CNC7Hofc"
   },
   "source": [
    "### Preparing the DataLoader using BossDBDataset\n",
    "\n",
    "**BossDBDataset**: Helper function that utilizes the `intern` library to download 3D brain volume from BossDB and convert it into a suitable dataloader of image slices.\n",
    "\n",
    "Note: The `ToTensor` transform needs to be applied in order to enable the conversion from numpy to PyTorch tensor."
   ]
  },
  {
   "cell_type": "code",
   "execution_count": 22,
   "metadata": {
    "colab": {
     "base_uri": "https://localhost:8080/"
    },
    "id": "wCiSUe-9Hori",
    "outputId": "ec518260-0ae3-43d5-a04f-1d0510dbf2df"
   },
   "outputs": [
    {
     "name": "stdout",
     "output_type": "stream",
     "text": [
      "Downloading BossDB cutout...\n"
     ]
    }
   ],
   "source": [
    "transform = transforms.Compose([transforms.ToTensor(),])\n",
    "\n",
    "##Set-up the test dataloader\n",
    "test_data = BossDBDataset(task_config, None, 'test', image_transform = transform, mask_transform = transform)\n",
    "\n",
    "test_dataloader = DataLoader(dataset=test_data,\n",
    "                                        batch_size=network_config['batch_size'],\n",
    "                                        shuffle=False)"
   ]
  },
  {
   "cell_type": "markdown",
   "metadata": {
    "id": "svrM6QLZCVLF"
   },
   "source": [
    "### Model Prediction"
   ]
  },
  {
   "cell_type": "markdown",
   "metadata": {
    "id": "iS0QcBMVCYal"
   },
   "source": [
    "#### Prediction Function\n"
   ]
  },
  {
   "cell_type": "code",
   "execution_count": 23,
   "metadata": {
    "id": "5NPWEZni-2m4"
   },
   "outputs": [],
   "source": [
    "#function to predict using trained model\n",
    "def predict(img, model, device):\n",
    "        model.eval()\n",
    "        x = img.to(device)  # to torch, send to device\n",
    "        with torch.no_grad():\n",
    "            out = model(x)  # send through model/network\n",
    "\n",
    "        out_argmax = torch.argmax(out, dim=1)  # perform softmax on outputs\n",
    "        return out_argmax"
   ]
  },
  {
   "cell_type": "markdown",
   "metadata": {
    "id": "NzFi3KduHM4k"
   },
   "source": [
    "#### Prediction Loop\n"
   ]
  },
  {
   "cell_type": "code",
   "execution_count": 24,
   "metadata": {
    "id": "WgUtyIkvA2tI"
   },
   "outputs": [
    {
     "name": "stderr",
     "output_type": "stream",
     "text": [
      "                                                                                                                       \r"
     ]
    }
   ],
   "source": [
    "batch_iter = tqdm(enumerate(test_dataloader), 'test', total=len(test_dataloader), leave=False)\n",
    "# predict the segmentations of test set\n",
    "tp_tot = torch.empty(0,network_config['classes'])\n",
    "fp_tot = torch.empty(0,network_config['classes'])\n",
    "fn_tot = torch.empty(0,network_config['classes'])\n",
    "tn_tot = torch.empty(0,network_config['classes'])\n",
    "\n",
    "y_ = []\n",
    "x_ = []\n",
    "output_ = []\n",
    "for i, (x, y) in batch_iter:\n",
    "    target = y.to(device) #can do this on CPU\n",
    "    y_.append(y)\n",
    "    x_.append(x.squeeze())\n",
    "    with torch.no_grad():\n",
    "        # get the output image (make prediction)\n",
    "        output = predict(x, model, device)\n",
    "        output_.append(output)\n",
    "        tp_, fp_, fn_, tn_ = smp.metrics.get_stats(output, target, mode='multiclass', num_classes = network_config['classes'])\n",
    "        tp_tot = torch.vstack((tp_tot,tp_))\n",
    "        fp_tot = torch.vstack((fp_tot,fp_))\n",
    "        fn_tot = torch.vstack((fn_tot,fn_))\n",
    "        tn_tot = torch.vstack((tn_tot,tn_))"
   ]
  },
  {
   "cell_type": "markdown",
   "metadata": {
    "id": "f-SKrH_oofRJ"
   },
   "source": [
    "#### Calculating Performance Metrics"
   ]
  },
  {
   "cell_type": "code",
   "execution_count": 25,
   "metadata": {
    "colab": {
     "base_uri": "https://localhost:8080/"
    },
    "id": "PA-qB6gehyxy",
    "outputId": "eefd1ecd-ef88-410b-cf14-897d9300c688"
   },
   "outputs": [
    {
     "name": "stdout",
     "output_type": "stream",
     "text": [
      "Accuracy per Class:\n",
      "[0.9477365 0.9693083 0.9637189]\n",
      "Balanced accuracy (No background): 0.8441511392593384\n",
      "F1-score: [0.9708818 0.6183254 0.7090855] Avg. F1-score: 0.7660975456237793\n",
      "IoU: [0.94341135 0.4475188  0.5492892 ] Avg. IoU-score: 0.6467397809028625\n"
     ]
    }
   ],
   "source": [
    "# Accuracy: (tp + fp) / (fp + tn + fn + tp)\n",
    "acc = (tp_tot.mean(dim=0)+tn_tot.mean(dim=0))/(fp_tot.mean(dim=0)+tn_tot.mean(dim=0)+fn_tot.mean(dim=0)+tp_tot.mean(dim=0)) \n",
    "print('Accuracy per Class:')\n",
    "print(np.array(acc.cpu()))\n",
    "\n",
    "# Balanced Accuracy:  (Specificity + Sensitivity / 2)\n",
    "spec =  (tn_tot[:,1:].mean())/(fp_tot[:,1:].mean()+tn_tot[:,1:].mean())\n",
    "sens =  (tp_tot[:,1:].mean())/(fn_tot[:,1:].mean()+tp_tot[:,1:].mean())\n",
    "balacc = (spec + sens)/2\n",
    "print(f'Balanced accuracy (No background): {balacc}')\n",
    "\n",
    "# F1-score: 2* precision * recall / (precision + recall)\n",
    "prec = tp_tot.mean(dim=0)/(fp_tot.mean(dim=0)+tp_tot.mean(dim=0))\n",
    "reca = tp_tot.mean(dim=0)/(fn_tot.mean(dim=0)+tp_tot.mean(dim=0))\n",
    "f1 = (2*reca*prec)/(reca+prec)\n",
    "print(f'F1-score: {np.array(f1.cpu())} Avg. F1-score: {f1.mean()}')\n",
    "\n",
    "# IoU: tp /(fp + fn + tp)\n",
    "iou = (tp_tot.mean(0))/(fp_tot.mean(0)+fn_tot.mean(0)+tp_tot.mean(0))\n",
    "print(f'IoU: {np.array(iou.cpu())} Avg. IoU-score: {iou.mean()}')"
   ]
  },
  {
   "cell_type": "markdown",
   "metadata": {},
   "source": [
    "#### Visualizing Model Predictions"
   ]
  },
  {
   "cell_type": "code",
   "execution_count": 26,
   "metadata": {},
   "outputs": [
    {
     "name": "stdout",
     "output_type": "stream",
     "text": [
      "torch.Size([2, 256, 256])\n"
     ]
    },
    {
     "data": {
      "image/png": "[encoded data removed]",
      "text/plain": [
       "<Figure size 432x288 with 3 Axes>"
      ]
     },
     "metadata": {
      "needs_background": "light"
     },
     "output_type": "display_data"
    }
   ],
   "source": [
    "#specify the slice from the test set to visualize\n",
    "batch_number = 0\n",
    "slice_number = 1\n",
    "print(x_[batch_number].shape)\n",
    "\n",
    "plt.subplot(1,3,1)\n",
    "plt.imshow(x_[batch_number].squeeze().cpu()[slice_number], cmap='gray')\n",
    "plt.title(\"A Slice\")\n",
    "plt.subplot(1,3,2)\n",
    "if Setting=='3class':\n",
    "  plt.imshow(y_[batch_number].squeeze().cpu()[slice_number], vmin=0, vmax=2)\n",
    "else:\n",
    "  plt.imshow(y_[batch_number].squeeze().cpu()[slice_number], vmin=0, vmax=3)\n",
    "plt.title(\"Groundtruth Annotation\")\n",
    "plt.subplot(1,3,3)\n",
    "if Setting=='3class':\n",
    "  plt.imshow(output_[batch_number].squeeze().cpu()[slice_number], vmin=0, vmax=2)\n",
    "else:\n",
    "  plt.imshow(output_[batch_number].squeeze().cpu()[slice_number], vmin=0, vmax=3)\n",
    "plt.title(\"Model Prediction\")\n",
    "plt.tight_layout()"
   ]
  },
  {
   "cell_type": "code",
   "execution_count": null,
   "metadata": {},
   "outputs": [],
   "source": []
  }
 ],
 "metadata": {
  "accelerator": "GPU",
  "colab": {
   "collapsed_sections": [],
   "provenance": []
  },
  "gpuClass": "standard",
  "kernelspec": {
   "display_name": "Python 3 (ipykernel)",
   "language": "python",
   "name": "python3"
  },
  "language_info": {
   "codemirror_mode": {
    "name": "ipython",
    "version": 3
   },
   "file_extension": ".py",
   "mimetype": "text/x-python",
   "name": "python",
   "nbconvert_exporter": "python",
   "pygments_lexer": "ipython3",
   "version": "3.8.10"
  },
  "vscode": {
   "interpreter": {
    "hash": "9f4108ecf01062aca25e5dc86ed0d2b2584059290a9a8508cbbea0875ac6d25a"
   }
  }
 },
 "nbformat": 4,
 "nbformat_minor": 1
}
