{
 "cells": [
  {
   "cell_type": "markdown",
   "metadata": {
    "id": "8JoMV7mwBJWI"
   },
   "source": [
    "## Clone required repos and install required libraries\n"
   ]
  },
  {
   "cell_type": "code",
   "execution_count": 1,
   "metadata": {},
   "outputs": [
    {
     "name": "stdout",
     "output_type": "stream",
     "text": [
      "Looking in indexes: https://pypi.org/simple, https://download.pytorch.org/whl/cu102\n",
      "Requirement already satisfied: torch in c:\\users\\public\\anaconda3\\lib\\site-packages (1.12.1)\n",
      "Requirement already satisfied: torchvision in c:\\users\\public\\anaconda3\\lib\\site-packages (0.13.1)\n",
      "Requirement already satisfied: typing-extensions in c:\\users\\public\\anaconda3\\lib\\site-packages (from torch) (4.1.1)\n",
      "Requirement already satisfied: numpy in c:\\users\\public\\anaconda3\\lib\\site-packages (from torchvision) (1.21.6)\n",
      "Requirement already satisfied: pillow!=8.3.*,>=5.3.0 in c:\\users\\public\\anaconda3\\lib\\site-packages (from torchvision) (9.0.1)\n",
      "Requirement already satisfied: requests in c:\\users\\public\\anaconda3\\lib\\site-packages (from torchvision) (2.28.1)\n",
      "Requirement already satisfied: urllib3<1.27,>=1.21.1 in c:\\users\\public\\anaconda3\\lib\\site-packages (from requests->torchvision) (1.26.12)\n",
      "Requirement already satisfied: certifi>=2017.4.17 in c:\\users\\public\\anaconda3\\lib\\site-packages (from requests->torchvision) (2022.6.15)\n",
      "Requirement already satisfied: idna<4,>=2.5 in c:\\users\\public\\anaconda3\\lib\\site-packages (from requests->torchvision) (3.3)"
     ]
    },
    {
     "name": "stderr",
     "output_type": "stream",
     "text": [
      "WARNING: Ignoring invalid distribution -yrsistent (c:\\users\\public\\anaconda3\\lib\\site-packages)\n",
      "WARNING: Ignoring invalid distribution -ffi (c:\\users\\public\\anaconda3\\lib\\site-packages)\n",
      "WARNING: Ignoring invalid distribution -yrsistent (c:\\users\\public\\anaconda3\\lib\\site-packages)\n",
      "WARNING: Ignoring invalid distribution -ffi (c:\\users\\public\\anaconda3\\lib\\site-packages)\n",
      "WARNING: Ignoring invalid distribution -yrsistent (c:\\users\\public\\anaconda3\\lib\\site-packages)\n",
      "WARNING: Ignoring invalid distribution -ffi (c:\\users\\public\\anaconda3\\lib\\site-packages)\n",
      "WARNING: Ignoring invalid distribution -yrsistent (c:\\users\\public\\anaconda3\\lib\\site-packages)\n",
      "WARNING: Ignoring invalid distribution -ffi (c:\\users\\public\\anaconda3\\lib\\site-packages)\n",
      "WARNING: Ignoring invalid distribution -yrsistent (c:\\users\\public\\anaconda3\\lib\\site-packages)\n",
      "WARNING: Ignoring invalid distribution -ffi (c:\\users\\public\\anaconda3\\lib\\site-packages)\n",
      "WARNING: Ignoring invalid distribution -yrsistent (c:\\users\\public\\anaconda3\\lib\\site-packages)\n",
      "WARNING: Ignoring invalid distribution -ffi (c:\\users\\public\\anaconda3\\lib\\site-packages)\n"
     ]
    },
    {
     "name": "stdout",
     "output_type": "stream",
     "text": [
      "\n",
      "Requirement already satisfied: charset-normalizer<3,>=2 in c:\\users\\public\\anaconda3\\lib\\site-packages (from requests->torchvision) (2.1.0)\n",
      "Looking in indexes: https://pypi.org/simple, https://download.pytorch.org/whl/cu113\n",
      "Requirement already satisfied: torch in c:\\users\\public\\anaconda3\\lib\\site-packages (1.12.1)\n",
      "Requirement already satisfied: torchvision in c:\\users\\public\\anaconda3\\lib\\site-packages (0.13.1)\n",
      "Requirement already satisfied: typing-extensions in c:\\users\\public\\anaconda3\\lib\\site-packages (from torch) (4.1.1)\n",
      "Requirement already satisfied: numpy in c:\\users\\public\\anaconda3\\lib\\site-packages (from torchvision) (1.21.6)\n",
      "Requirement already satisfied: pillow!=8.3.*,>=5.3.0 in c:\\users\\public\\anaconda3\\lib\\site-packages (from torchvision) (9.0.1)\n",
      "Requirement already satisfied: requests in c:\\users\\public\\anaconda3\\lib\\site-packages (from torchvision) (2.28.1)\n",
      "Requirement already satisfied: certifi>=2017.4.17 in c:\\users\\public\\anaconda3\\lib\\site-packages (from requests->torchvision) (2022.6.15)\n",
      "Requirement already satisfied: urllib3<1.27,>=1.21.1 in c:\\users\\public\\anaconda3\\lib\\site-packages (from requests->torchvision) (1.26.12)\n",
      "Requirement already satisfied: charset-normalizer<3,>=2 in c:\\users\\public\\anaconda3\\lib\\site-packages (from requests->torchvision) (2.1.0)\n",
      "Requirement already satisfied: idna<4,>=2.5 in c:\\users\\public\\anaconda3\\lib\\site-packages (from requests->torchvision) (3.3)\n"
     ]
    },
    {
     "name": "stderr",
     "output_type": "stream",
     "text": [
      "WARNING: Ignoring invalid distribution -yrsistent (c:\\users\\public\\anaconda3\\lib\\site-packages)\n",
      "WARNING: Ignoring invalid distribution -ffi (c:\\users\\public\\anaconda3\\lib\\site-packages)\n",
      "WARNING: Ignoring invalid distribution -yrsistent (c:\\users\\public\\anaconda3\\lib\\site-packages)\n",
      "WARNING: Ignoring invalid distribution -ffi (c:\\users\\public\\anaconda3\\lib\\site-packages)\n",
      "WARNING: Ignoring invalid distribution -yrsistent (c:\\users\\public\\anaconda3\\lib\\site-packages)\n",
      "WARNING: Ignoring invalid distribution -ffi (c:\\users\\public\\anaconda3\\lib\\site-packages)\n",
      "WARNING: Ignoring invalid distribution -yrsistent (c:\\users\\public\\anaconda3\\lib\\site-packages)\n",
      "WARNING: Ignoring invalid distribution -ffi (c:\\users\\public\\anaconda3\\lib\\site-packages)\n",
      "WARNING: Ignoring invalid distribution -yrsistent (c:\\users\\public\\anaconda3\\lib\\site-packages)\n",
      "WARNING: Ignoring invalid distribution -ffi (c:\\users\\public\\anaconda3\\lib\\site-packages)\n",
      "WARNING: Ignoring invalid distribution -yrsistent (c:\\users\\public\\anaconda3\\lib\\site-packages)\n",
      "WARNING: Ignoring invalid distribution -ffi (c:\\users\\public\\anaconda3\\lib\\site-packages)\n"
     ]
    },
    {
     "name": "stdout",
     "output_type": "stream",
     "text": [
      "Requirement already satisfied: intern[cloudvolume] in c:\\users\\public\\anaconda3\\lib\\site-packages (1.3.1)\n",
      "Requirement already satisfied: six in c:\\users\\public\\anaconda3\\lib\\site-packages (from intern[cloudvolume]) (1.16.0)\n",
      "Requirement already satisfied: requests>=2.11.1 in c:\\users\\public\\anaconda3\\lib\\site-packages (from intern[cloudvolume]) (2.28.1)\n",
      "Requirement already satisfied: mock in c:\\users\\public\\anaconda3\\lib\\site-packages (from intern[cloudvolume]) (4.0.3)\n",
      "Requirement already satisfied: numpy in c:\\users\\public\\anaconda3\\lib\\site-packages (from intern[cloudvolume]) (1.21.6)\n",
      "Requirement already satisfied: blosc>=1.4.4 in c:\\users\\public\\anaconda3\\lib\\site-packages (from intern[cloudvolume]) (1.10.6)\n",
      "Requirement already satisfied: nose2 in c:\\users\\public\\anaconda3\\lib\\site-packages (from intern[cloudvolume]) (0.12.0)\n",
      "Requirement already satisfied: brotli>=1.0.7 in c:\\users\\public\\anaconda3\\lib\\site-packages (from intern[cloudvolume]) (1.0.9)\n",
      "Requirement already satisfied: cloud-volume==6.1.1 in c:\\users\\public\\anaconda3\\lib\\site-packages (from intern[cloudvolume]) (6.1.1)\n",
      "Requirement already satisfied: DracoPy>=0.0.19 in c:\\users\\public\\anaconda3\\lib\\site-packages (from cloud-volume==6.1.1->intern[cloudvolume]) (1.2.0)\n",
      "Requirement already satisfied: networkx in c:\\users\\public\\anaconda3\\lib\\site-packages (from cloud-volume==6.1.1->intern[cloudvolume]) (2.7.1)\n",
      "Requirement already satisfied: urllib3[brotli,secure]>=1.25.7 in c:\\users\\public\\anaconda3\\lib\\site-packages (from cloud-volume==6.1.1->intern[cloudvolume]) (1.26.12)\n",
      "Requirement already satisfied: google-cloud-storage>=1.24.1 in c:\\users\\public\\anaconda3\\lib\\site-packages (from cloud-volume==6.1.1->intern[cloudvolume]) (2.5.0)\n",
      "Requirement already satisfied: tqdm in c:\\users\\public\\anaconda3\\lib\\site-packages (from cloud-volume==6.1.1->intern[cloudvolume]) (4.64.0)\n",
      "Requirement already satisfied: fastremap>=1.12.0 in c:\\users\\public\\anaconda3\\lib\\site-packages (from cloud-volume==6.1.1->intern[cloudvolume]) (1.13.3)\n",
      "Requirement already satisfied: google-cloud-core>=1.1.0 in c:\\users\\public\\anaconda3\\lib\\site-packages (from cloud-volume==6.1.1->intern[cloudvolume]) (2.3.2)\n",
      "Requirement already satisfied: compressed-segmentation>=2.0.1 in c:\\users\\public\\anaconda3\\lib\\site-packages (from cloud-volume==6.1.1->intern[cloudvolume]) (2.2.0)\n",
      "Requirement already satisfied: compresso>=2.0.0 in c:\\users\\public\\anaconda3\\lib\\site-packages (from cloud-volume==6.1.1->intern[cloudvolume]) (3.0.0)\n",
      "Requirement already satisfied: pathos in c:\\users\\public\\anaconda3\\lib\\site-packages (from cloud-volume==6.1.1->intern[cloudvolume]) (0.2.9)\n",
      "Requirement already satisfied: python-jsonschema-objects>=0.3.3 in c:\\users\\public\\anaconda3\\lib\\site-packages (from cloud-volume==6.1.1->intern[cloudvolume]) (0.4.1)\n",
      "Requirement already satisfied: tenacity>=4.10.0 in c:\\users\\public\\anaconda3\\lib\\site-packages (from cloud-volume==6.1.1->intern[cloudvolume]) (8.0.1)\n",
      "Requirement already satisfied: simplejpeg in c:\\users\\public\\anaconda3\\lib\\site-packages (from cloud-volume==6.1.1->intern[cloudvolume]) (1.6.5)\n",
      "Requirement already satisfied: json5 in c:\\users\\public\\anaconda3\\lib\\site-packages (from cloud-volume==6.1.1->intern[cloudvolume]) (0.9.6)\n",
      "Requirement already satisfied: Pillow>=4.2.1 in c:\\users\\public\\anaconda3\\lib\\site-packages (from cloud-volume==6.1.1->intern[cloudvolume]) (9.0.1)\n",
      "Requirement already satisfied: fpzip>=1.1.3 in c:\\users\\public\\anaconda3\\lib\\site-packages (from cloud-volume==6.1.1->intern[cloudvolume]) (1.2.0)\n",
      "Requirement already satisfied: boto3>=1.4.7 in c:\\users\\public\\anaconda3\\lib\\site-packages (from cloud-volume==6.1.1->intern[cloudvolume]) (1.21.32)\n",
      "Requirement already satisfied: gevent in c:\\users\\public\\anaconda3\\lib\\site-packages (from cloud-volume==6.1.1->intern[cloudvolume]) (22.8.0)\n",
      "Requirement already satisfied: google-auth>=1.10.0 in c:\\users\\public\\anaconda3\\lib\\site-packages (from cloud-volume==6.1.1->intern[cloudvolume]) (1.35.0)\n",
      "Requirement already satisfied: chardet>=3.0.4 in c:\\users\\public\\anaconda3\\lib\\site-packages (from cloud-volume==6.1.1->intern[cloudvolume]) (4.0.0)\n",
      "Requirement already satisfied: pysimdjson>=3.1.1 in c:\\users\\public\\anaconda3\\lib\\site-packages (from cloud-volume==6.1.1->intern[cloudvolume]) (5.0.2)\n",
      "Requirement already satisfied: protobuf>=3.3.0 in c:\\users\\public\\anaconda3\\lib\\site-packages (from cloud-volume==6.1.1->intern[cloudvolume]) (3.17.3)\n",
      "Requirement already satisfied: jsonschema<4.0 in c:\\users\\public\\anaconda3\\lib\\site-packages (from cloud-volume==6.1.1->intern[cloudvolume]) (3.2.0)\n",
      "Requirement already satisfied: cloud-files>=2.0.0 in c:\\users\\public\\anaconda3\\lib\\site-packages (from cloud-volume==6.1.1->intern[cloudvolume]) (4.11.0)\n",
      "Requirement already satisfied: python-dateutil in c:\\users\\public\\anaconda3\\lib\\site-packages (from cloud-volume==6.1.1->intern[cloudvolume]) (2.8.2)\n",
      "Requirement already satisfied: s3transfer<0.6.0,>=0.5.0 in c:\\users\\public\\anaconda3\\lib\\site-packages (from boto3>=1.4.7->cloud-volume==6.1.1->intern[cloudvolume]) (0.5.2)\n",
      "Requirement already satisfied: botocore<1.25.0,>=1.24.32 in c:\\users\\public\\anaconda3\\lib\\site-packages (from boto3>=1.4.7->cloud-volume==6.1.1->intern[cloudvolume]) (1.24.46)\n",
      "Requirement already satisfied: jmespath<2.0.0,>=0.7.1 in c:\\users\\public\\anaconda3\\lib\\site-packages (from boto3>=1.4.7->cloud-volume==6.1.1->intern[cloudvolume]) (1.0.1)\n",
      "Requirement already satisfied: rsa>=4.7.2 in c:\\users\\public\\anaconda3\\lib\\site-packages (from cloud-files>=2.0.0->cloud-volume==6.1.1->intern[cloudvolume]) (4.9)\n",
      "Requirement already satisfied: deflate>=0.2.0 in c:\\users\\public\\anaconda3\\lib\\site-packages (from cloud-files>=2.0.0->cloud-volume==6.1.1->intern[cloudvolume]) (0.3.0)\n",
      "Requirement already satisfied: zstandard in c:\\users\\public\\anaconda3\\lib\\site-packages (from cloud-files>=2.0.0->cloud-volume==6.1.1->intern[cloudvolume]) (0.18.0)\n",
      "Requirement already satisfied: crc32c in c:\\users\\public\\anaconda3\\lib\\site-packages (from cloud-files>=2.0.0->cloud-volume==6.1.1->intern[cloudvolume]) (2.3)\n",
      "Requirement already satisfied: google-crc32c>=1.0.0 in c:\\users\\public\\anaconda3\\lib\\site-packages (from cloud-files>=2.0.0->cloud-volume==6.1.1->intern[cloudvolume]) (1.3.0)\n",
      "Requirement already satisfied: orjson in c:\\users\\public\\anaconda3\\lib\\site-packages (from cloud-files>=2.0.0->cloud-volume==6.1.1->intern[cloudvolume]) (3.7.12)\n",
      "Requirement already satisfied: click in c:\\users\\public\\anaconda3\\lib\\site-packages (from cloud-files>=2.0.0->cloud-volume==6.1.1->intern[cloudvolume]) (8.0.4)\n",
      "Requirement already satisfied: pytest in c:\\users\\public\\anaconda3\\lib\\site-packages (from compressed-segmentation>=2.0.1->cloud-volume==6.1.1->intern[cloudvolume]) (7.1.2)\n",
      "Requirement already satisfied: pyasn1-modules>=0.2.1 in c:\\users\\public\\anaconda3\\lib\\site-packages (from google-auth>=1.10.0->cloud-volume==6.1.1->intern[cloudvolume]) (0.2.8)\n",
      "Requirement already satisfied: cachetools<5.0,>=2.0.0 in c:\\users\\public\\anaconda3\\lib\\site-packages (from google-auth>=1.10.0->cloud-volume==6.1.1->intern[cloudvolume]) (4.2.4)\n",
      "Requirement already satisfied: setuptools>=40.3.0 in c:\\users\\public\\anaconda3\\lib\\site-packages (from google-auth>=1.10.0->cloud-volume==6.1.1->intern[cloudvolume]) (61.2.0)\n",
      "Requirement already satisfied: google-api-core!=2.0.*,!=2.1.*,!=2.2.*,!=2.3.0,<3.0.0dev,>=1.31.6 in c:\\users\\public\\anaconda3\\lib\\site-packages (from google-cloud-core>=1.1.0->cloud-volume==6.1.1->intern[cloudvolume]) (1.31.6)\n",
      "Requirement already satisfied: pytz in c:\\users\\public\\anaconda3\\lib\\site-packages (from google-api-core!=2.0.*,!=2.1.*,!=2.2.*,!=2.3.0,<3.0.0dev,>=1.31.6->google-cloud-core>=1.1.0->cloud-volume==6.1.1->intern[cloudvolume]) (2022.2.1)\n",
      "Requirement already satisfied: googleapis-common-protos<2.0dev,>=1.6.0 in c:\\users\\public\\anaconda3\\lib\\site-packages (from google-api-core!=2.0.*,!=2.1.*,!=2.2.*,!=2.3.0,<3.0.0dev,>=1.31.6->google-cloud-core>=1.1.0->cloud-volume==6.1.1->intern[cloudvolume]) (1.56.4)\n",
      "Requirement already satisfied: packaging>=14.3 in c:\\users\\public\\anaconda3\\lib\\site-packages (from google-api-core!=2.0.*,!=2.1.*,!=2.2.*,!=2.3.0,<3.0.0dev,>=1.31.6->google-cloud-core>=1.1.0->cloud-volume==6.1.1->intern[cloudvolume]) (21.3)\n",
      "Requirement already satisfied: google-resumable-media>=2.3.2 in c:\\users\\public\\anaconda3\\lib\\site-packages (from google-cloud-storage>=1.24.1->cloud-volume==6.1.1->intern[cloudvolume]) (2.4.0)\n",
      "Requirement already satisfied: pyrsistent>=0.14.0 in c:\\users\\public\\anaconda3\\lib\\site-packages (from jsonschema<4.0->cloud-volume==6.1.1->intern[cloudvolume]) (0.18.1)\n",
      "Requirement already satisfied: attrs>=17.4.0 in c:\\users\\public\\anaconda3\\lib\\site-packages (from jsonschema<4.0->cloud-volume==6.1.1->intern[cloudvolume]) (22.1.0)\n",
      "Requirement already satisfied: pyparsing!=3.0.5,>=2.0.2 in c:\\users\\public\\anaconda3\\lib\\site-packages (from packaging>=14.3->google-api-core!=2.0.*,!=2.1.*,!=2.2.*,!=2.3.0,<3.0.0dev,>=1.31.6->google-cloud-core>=1.1.0->cloud-volume==6.1.1->intern[cloudvolume]) (3.0.9)\n",
      "Requirement already satisfied: pyasn1<0.5.0,>=0.4.6 in c:\\users\\public\\anaconda3\\lib\\site-packages (from pyasn1-modules>=0.2.1->google-auth>=1.10.0->cloud-volume==6.1.1->intern[cloudvolume]) (0.4.8)\n",
      "Requirement already satisfied: Markdown>=2.4 in c:\\users\\public\\anaconda3\\lib\\site-packages (from python-jsonschema-objects>=0.3.3->cloud-volume==6.1.1->intern[cloudvolume]) (3.3.4)\n",
      "Requirement already satisfied: inflection>=0.2 in c:\\users\\public\\anaconda3\\lib\\site-packages (from python-jsonschema-objects>=0.3.3->cloud-volume==6.1.1->intern[cloudvolume]) (0.5.1)\n",
      "Requirement already satisfied: idna<4,>=2.5 in c:\\users\\public\\anaconda3\\lib\\site-packages (from requests>=2.11.1->intern[cloudvolume]) (3.3)\n",
      "Requirement already satisfied: certifi>=2017.4.17 in c:\\users\\public\\anaconda3\\lib\\site-packages (from requests>=2.11.1->intern[cloudvolume]) (2022.6.15)\n",
      "Requirement already satisfied: charset-normalizer<3,>=2 in c:\\users\\public\\anaconda3\\lib\\site-packages (from requests>=2.11.1->intern[cloudvolume]) (2.1.0)\n",
      "Requirement already satisfied: cryptography>=1.3.4 in c:\\users\\public\\anaconda3\\lib\\site-packages (from urllib3[brotli,secure]>=1.25.7->cloud-volume==6.1.1->intern[cloudvolume]) (37.0.4)\n",
      "Requirement already satisfied: pyOpenSSL>=0.14 in c:\\users\\public\\anaconda3\\lib\\site-packages (from urllib3[brotli,secure]>=1.25.7->cloud-volume==6.1.1->intern[cloudvolume]) (22.0.0)\n",
      "Requirement already satisfied: urllib3-secure-extra in c:\\users\\public\\anaconda3\\lib\\site-packages (from urllib3[brotli,secure]>=1.25.7->cloud-volume==6.1.1->intern[cloudvolume]) (0.1.0)\n",
      "Requirement already satisfied: cffi>=1.12 in c:\\users\\public\\anaconda3\\lib\\site-packages (from cryptography>=1.3.4->urllib3[brotli,secure]>=1.25.7->cloud-volume==6.1.1->intern[cloudvolume]) (1.15.1)\n",
      "Requirement already satisfied: pycparser in c:\\users\\public\\anaconda3\\lib\\site-packages (from cffi>=1.12->cryptography>=1.3.4->urllib3[brotli,secure]>=1.25.7->cloud-volume==6.1.1->intern[cloudvolume]) (2.21)\n",
      "Requirement already satisfied: colorama in c:\\users\\public\\anaconda3\\lib\\site-packages (from click->cloud-files>=2.0.0->cloud-volume==6.1.1->intern[cloudvolume]) (0.4.4)\n",
      "Requirement already satisfied: greenlet<2.0,>=1.1.3 in c:\\users\\public\\anaconda3\\lib\\site-packages (from gevent->cloud-volume==6.1.1->intern[cloudvolume]) (1.1.3)\n",
      "Requirement already satisfied: zope.interface in c:\\users\\public\\anaconda3\\lib\\site-packages (from gevent->cloud-volume==6.1.1->intern[cloudvolume]) (5.4.0)\n",
      "Requirement already satisfied: zope.event in c:\\users\\public\\anaconda3\\lib\\site-packages (from gevent->cloud-volume==6.1.1->intern[cloudvolume]) (4.5.0)\n",
      "Requirement already satisfied: pox>=0.3.1 in c:\\users\\public\\anaconda3\\lib\\site-packages (from pathos->cloud-volume==6.1.1->intern[cloudvolume]) (0.3.1)\n",
      "Requirement already satisfied: multiprocess>=0.70.13 in c:\\users\\public\\anaconda3\\lib\\site-packages (from pathos->cloud-volume==6.1.1->intern[cloudvolume]) (0.70.13)\n",
      "Requirement already satisfied: dill>=0.3.5.1 in c:\\users\\public\\anaconda3\\lib\\site-packages (from pathos->cloud-volume==6.1.1->intern[cloudvolume]) (0.3.5.1)\n",
      "Requirement already satisfied: ppft>=1.7.6.5 in c:\\users\\public\\anaconda3\\lib\\site-packages (from pathos->cloud-volume==6.1.1->intern[cloudvolume]) (1.7.6.5)\n",
      "Requirement already satisfied: iniconfig in c:\\users\\public\\anaconda3\\lib\\site-packages (from pytest->compressed-segmentation>=2.0.1->cloud-volume==6.1.1->intern[cloudvolume]) (1.1.1)\n",
      "Requirement already satisfied: pluggy<2.0,>=0.12 in c:\\users\\public\\anaconda3\\lib\\site-packages (from pytest->compressed-segmentation>=2.0.1->cloud-volume==6.1.1->intern[cloudvolume]) (1.0.0)\n",
      "Requirement already satisfied: py>=1.8.2 in c:\\users\\public\\anaconda3\\lib\\site-packages (from pytest->compressed-segmentation>=2.0.1->cloud-volume==6.1.1->intern[cloudvolume]) (1.11.0)\n",
      "Requirement already satisfied: tomli>=1.0.0 in c:\\users\\public\\anaconda3\\lib\\site-packages (from pytest->compressed-segmentation>=2.0.1->cloud-volume==6.1.1->intern[cloudvolume]) (2.0.1)\n",
      "Requirement already satisfied: atomicwrites>=1.0 in c:\\users\\public\\anaconda3\\lib\\site-packages (from pytest->compressed-segmentation>=2.0.1->cloud-volume==6.1.1->intern[cloudvolume]) (1.4.0)\n"
     ]
    },
    {
     "name": "stderr",
     "output_type": "stream",
     "text": [
      "WARNING: Ignoring invalid distribution -yrsistent (c:\\users\\public\\anaconda3\\lib\\site-packages)\n",
      "WARNING: Ignoring invalid distribution -ffi (c:\\users\\public\\anaconda3\\lib\\site-packages)\n",
      "WARNING: Ignoring invalid distribution -yrsistent (c:\\users\\public\\anaconda3\\lib\\site-packages)\n",
      "WARNING: Ignoring invalid distribution -ffi (c:\\users\\public\\anaconda3\\lib\\site-packages)\n",
      "WARNING: Ignoring invalid distribution -yrsistent (c:\\users\\public\\anaconda3\\lib\\site-packages)\n",
      "WARNING: Ignoring invalid distribution -ffi (c:\\users\\public\\anaconda3\\lib\\site-packages)\n",
      "WARNING: Ignoring invalid distribution -yrsistent (c:\\users\\public\\anaconda3\\lib\\site-packages)\n",
      "WARNING: Ignoring invalid distribution -ffi (c:\\users\\public\\anaconda3\\lib\\site-packages)\n",
      "WARNING: Ignoring invalid distribution -yrsistent (c:\\users\\public\\anaconda3\\lib\\site-packages)\n",
      "WARNING: Ignoring invalid distribution -ffi (c:\\users\\public\\anaconda3\\lib\\site-packages)\n",
      "WARNING: Ignoring invalid distribution -yrsistent (c:\\users\\public\\anaconda3\\lib\\site-packages)\n",
      "WARNING: Ignoring invalid distribution -ffi (c:\\users\\public\\anaconda3\\lib\\site-packages)\n"
     ]
    },
    {
     "name": "stdout",
     "output_type": "stream",
     "text": [
      "Requirement already satisfied: scikit-learn in c:\\users\\public\\anaconda3\\lib\\site-packages (1.0.2)\n",
      "Requirement already satisfied: joblib>=0.11 in c:\\users\\public\\anaconda3\\lib\\site-packages (from scikit-learn) (1.1.0)\n",
      "Requirement already satisfied: threadpoolctl>=2.0.0 in c:\\users\\public\\anaconda3\\lib\\site-packages (from scikit-learn) (2.2.0)\n",
      "Requirement already satisfied: scipy>=1.1.0 in c:\\users\\public\\anaconda3\\lib\\site-packages (from scikit-learn) (1.7.3)\n",
      "Requirement already satisfied: numpy>=1.14.6 in c:\\users\\public\\anaconda3\\lib\\site-packages (from scikit-learn) (1.21.6)\n"
     ]
    },
    {
     "name": "stderr",
     "output_type": "stream",
     "text": [
      "WARNING: Ignoring invalid distribution -yrsistent (c:\\users\\public\\anaconda3\\lib\\site-packages)\n",
      "WARNING: Ignoring invalid distribution -ffi (c:\\users\\public\\anaconda3\\lib\\site-packages)\n",
      "WARNING: Ignoring invalid distribution -yrsistent (c:\\users\\public\\anaconda3\\lib\\site-packages)\n",
      "WARNING: Ignoring invalid distribution -ffi (c:\\users\\public\\anaconda3\\lib\\site-packages)\n",
      "WARNING: Ignoring invalid distribution -yrsistent (c:\\users\\public\\anaconda3\\lib\\site-packages)\n",
      "WARNING: Ignoring invalid distribution -ffi (c:\\users\\public\\anaconda3\\lib\\site-packages)\n",
      "WARNING: Ignoring invalid distribution -yrsistent (c:\\users\\public\\anaconda3\\lib\\site-packages)\n",
      "WARNING: Ignoring invalid distribution -ffi (c:\\users\\public\\anaconda3\\lib\\site-packages)\n",
      "WARNING: Ignoring invalid distribution -yrsistent (c:\\users\\public\\anaconda3\\lib\\site-packages)\n",
      "WARNING: Ignoring invalid distribution -ffi (c:\\users\\public\\anaconda3\\lib\\site-packages)\n",
      "WARNING: Ignoring invalid distribution -yrsistent (c:\\users\\public\\anaconda3\\lib\\site-packages)\n",
      "WARNING: Ignoring invalid distribution -ffi (c:\\users\\public\\anaconda3\\lib\\site-packages)\n"
     ]
    },
    {
     "name": "stdout",
     "output_type": "stream",
     "text": [
      "Requirement already satisfied: timm in c:\\users\\public\\anaconda3\\lib\\site-packages (0.6.7)\n",
      "Requirement already satisfied: torchvision in c:\\users\\public\\anaconda3\\lib\\site-packages (from timm) (0.13.1)\n",
      "Requirement already satisfied: torch>=1.4 in c:\\users\\public\\anaconda3\\lib\\site-packages (from timm) (1.12.1)\n",
      "Requirement already satisfied: typing-extensions in c:\\users\\public\\anaconda3\\lib\\site-packages (from torch>=1.4->timm) (4.1.1)\n",
      "Requirement already satisfied: numpy in c:\\users\\public\\anaconda3\\lib\\site-packages (from torchvision->timm) (1.21.6)\n",
      "Requirement already satisfied: pillow!=8.3.*,>=5.3.0 in c:\\users\\public\\anaconda3\\lib\\site-packages (from torchvision->timm) (9.0.1)\n",
      "Requirement already satisfied: requests in c:\\users\\public\\anaconda3\\lib\\site-packages (from torchvision->timm) (2.28.1)\n",
      "Requirement already satisfied: certifi>=2017.4.17 in c:\\users\\public\\anaconda3\\lib\\site-packages (from requests->torchvision->timm) (2022.6.15)\n",
      "Requirement already satisfied: urllib3<1.27,>=1.21.1 in c:\\users\\public\\anaconda3\\lib\\site-packages (from requests->torchvision->timm) (1.26.12)\n",
      "Requirement already satisfied: charset-normalizer<3,>=2 in c:\\users\\public\\anaconda3\\lib\\site-packages (from requests->torchvision->timm) (2.1.0)\n",
      "Requirement already satisfied: idna<4,>=2.5 in c:\\users\\public\\anaconda3\\lib\\site-packages (from requests->torchvision->timm) (3.3)\n"
     ]
    },
    {
     "name": "stderr",
     "output_type": "stream",
     "text": [
      "WARNING: Ignoring invalid distribution -yrsistent (c:\\users\\public\\anaconda3\\lib\\site-packages)\n",
      "WARNING: Ignoring invalid distribution -ffi (c:\\users\\public\\anaconda3\\lib\\site-packages)\n",
      "WARNING: Ignoring invalid distribution -yrsistent (c:\\users\\public\\anaconda3\\lib\\site-packages)\n",
      "WARNING: Ignoring invalid distribution -ffi (c:\\users\\public\\anaconda3\\lib\\site-packages)\n",
      "WARNING: Ignoring invalid distribution -yrsistent (c:\\users\\public\\anaconda3\\lib\\site-packages)\n",
      "WARNING: Ignoring invalid distribution -ffi (c:\\users\\public\\anaconda3\\lib\\site-packages)\n",
      "WARNING: Ignoring invalid distribution -yrsistent (c:\\users\\public\\anaconda3\\lib\\site-packages)\n",
      "WARNING: Ignoring invalid distribution -ffi (c:\\users\\public\\anaconda3\\lib\\site-packages)\n",
      "WARNING: Ignoring invalid distribution -yrsistent (c:\\users\\public\\anaconda3\\lib\\site-packages)\n",
      "WARNING: Ignoring invalid distribution -ffi (c:\\users\\public\\anaconda3\\lib\\site-packages)\n",
      "WARNING: Ignoring invalid distribution -yrsistent (c:\\users\\public\\anaconda3\\lib\\site-packages)\n",
      "WARNING: Ignoring invalid distribution -ffi (c:\\users\\public\\anaconda3\\lib\\site-packages)\n"
     ]
    },
    {
     "name": "stdout",
     "output_type": "stream",
     "text": [
      "Requirement already satisfied: pretrainedmodels in c:\\users\\public\\anaconda3\\lib\\site-packages (0.7.4)\n",
      "Requirement already satisfied: torchvision in c:\\users\\public\\anaconda3\\lib\\site-packages (from pretrainedmodels) (0.13.1)\n",
      "Requirement already satisfied: torch in c:\\users\\public\\anaconda3\\lib\\site-packages (from pretrainedmodels) (1.12.1)\n",
      "Requirement already satisfied: munch in c:\\users\\public\\anaconda3\\lib\\site-packages (from pretrainedmodels) (2.5.0)\n",
      "Requirement already satisfied: tqdm in c:\\users\\public\\anaconda3\\lib\\site-packages (from pretrainedmodels) (4.64.0)\n",
      "Requirement already satisfied: six in c:\\users\\public\\anaconda3\\lib\\site-packages (from munch->pretrainedmodels) (1.16.0)\n",
      "Requirement already satisfied: typing-extensions in c:\\users\\public\\anaconda3\\lib\\site-packages (from torch->pretrainedmodels) (4.1.1)\n",
      "Requirement already satisfied: requests in c:\\users\\public\\anaconda3\\lib\\site-packages (from torchvision->pretrainedmodels) (2.28.1)\n",
      "Requirement already satisfied: pillow!=8.3.*,>=5.3.0 in c:\\users\\public\\anaconda3\\lib\\site-packages (from torchvision->pretrainedmodels) (9.0.1)\n",
      "Requirement already satisfied: numpy in c:\\users\\public\\anaconda3\\lib\\site-packages (from torchvision->pretrainedmodels) (1.21.6)\n",
      "Requirement already satisfied: charset-normalizer<3,>=2 in c:\\users\\public\\anaconda3\\lib\\site-packages (from requests->torchvision->pretrainedmodels) (2.1.0)\n",
      "Requirement already satisfied: idna<4,>=2.5 in c:\\users\\public\\anaconda3\\lib\\site-packages (from requests->torchvision->pretrainedmodels) (3.3)\n",
      "Requirement already satisfied: certifi>=2017.4.17 in c:\\users\\public\\anaconda3\\lib\\site-packages (from requests->torchvision->pretrainedmodels) (2022.6.15)\n",
      "Requirement already satisfied: urllib3<1.27,>=1.21.1 in c:\\users\\public\\anaconda3\\lib\\site-packages (from requests->torchvision->pretrainedmodels) (1.26.12)\n",
      "Requirement already satisfied: colorama in c:\\users\\public\\anaconda3\\lib\\site-packages (from tqdm->pretrainedmodels) (0.4.4)\n"
     ]
    },
    {
     "name": "stderr",
     "output_type": "stream",
     "text": [
      "WARNING: Ignoring invalid distribution -yrsistent (c:\\users\\public\\anaconda3\\lib\\site-packages)\n",
      "WARNING: Ignoring invalid distribution -ffi (c:\\users\\public\\anaconda3\\lib\\site-packages)\n",
      "WARNING: Ignoring invalid distribution -yrsistent (c:\\users\\public\\anaconda3\\lib\\site-packages)\n",
      "WARNING: Ignoring invalid distribution -ffi (c:\\users\\public\\anaconda3\\lib\\site-packages)\n",
      "WARNING: Ignoring invalid distribution -yrsistent (c:\\users\\public\\anaconda3\\lib\\site-packages)\n",
      "WARNING: Ignoring invalid distribution -ffi (c:\\users\\public\\anaconda3\\lib\\site-packages)\n",
      "WARNING: Ignoring invalid distribution -yrsistent (c:\\users\\public\\anaconda3\\lib\\site-packages)\n",
      "WARNING: Ignoring invalid distribution -ffi (c:\\users\\public\\anaconda3\\lib\\site-packages)\n",
      "WARNING: Ignoring invalid distribution -yrsistent (c:\\users\\public\\anaconda3\\lib\\site-packages)\n",
      "WARNING: Ignoring invalid distribution -ffi (c:\\users\\public\\anaconda3\\lib\\site-packages)\n",
      "WARNING: Ignoring invalid distribution -yrsistent (c:\\users\\public\\anaconda3\\lib\\site-packages)\n",
      "WARNING: Ignoring invalid distribution -ffi (c:\\users\\public\\anaconda3\\lib\\site-packages)\n"
     ]
    },
    {
     "name": "stdout",
     "output_type": "stream",
     "text": [
      "Requirement already satisfied: efficientnet_pytorch in c:\\users\\public\\anaconda3\\lib\\site-packages (0.7.1)\n",
      "Requirement already satisfied: torch in c:\\users\\public\\anaconda3\\lib\\site-packages (from efficientnet_pytorch) (1.12.1)\n",
      "Requirement already satisfied: typing-extensions in c:\\users\\public\\anaconda3\\lib\\site-packages (from torch->efficientnet_pytorch) (4.1.1)\n"
     ]
    },
    {
     "name": "stderr",
     "output_type": "stream",
     "text": [
      "WARNING: Ignoring invalid distribution -yrsistent (c:\\users\\public\\anaconda3\\lib\\site-packages)\n",
      "WARNING: Ignoring invalid distribution -ffi (c:\\users\\public\\anaconda3\\lib\\site-packages)\n",
      "WARNING: Ignoring invalid distribution -yrsistent (c:\\users\\public\\anaconda3\\lib\\site-packages)\n",
      "WARNING: Ignoring invalid distribution -ffi (c:\\users\\public\\anaconda3\\lib\\site-packages)\n",
      "WARNING: Ignoring invalid distribution -yrsistent (c:\\users\\public\\anaconda3\\lib\\site-packages)\n",
      "WARNING: Ignoring invalid distribution -ffi (c:\\users\\public\\anaconda3\\lib\\site-packages)\n",
      "WARNING: Ignoring invalid distribution -yrsistent (c:\\users\\public\\anaconda3\\lib\\site-packages)\n",
      "WARNING: Ignoring invalid distribution -ffi (c:\\users\\public\\anaconda3\\lib\\site-packages)\n",
      "WARNING: Ignoring invalid distribution -yrsistent (c:\\users\\public\\anaconda3\\lib\\site-packages)\n",
      "WARNING: Ignoring invalid distribution -ffi (c:\\users\\public\\anaconda3\\lib\\site-packages)\n",
      "WARNING: Ignoring invalid distribution -yrsistent (c:\\users\\public\\anaconda3\\lib\\site-packages)\n",
      "WARNING: Ignoring invalid distribution -ffi (c:\\users\\public\\anaconda3\\lib\\site-packages)\n"
     ]
    },
    {
     "name": "stdout",
     "output_type": "stream",
     "text": [
      "Requirement already satisfied: github-clone in c:\\users\\public\\anaconda3\\lib\\site-packages (1.2.0)\n",
      "Requirement already satisfied: requests>=2.20.0 in c:\\users\\public\\anaconda3\\lib\\site-packages (from github-clone) (2.28.1)\n",
      "Requirement already satisfied: docopt>=0.6.2 in c:\\users\\public\\anaconda3\\lib\\site-packages (from github-clone) (0.6.2)\n",
      "Requirement already satisfied: certifi>=2017.4.17 in c:\\users\\public\\anaconda3\\lib\\site-packages (from requests>=2.20.0->github-clone) (2022.6.15)\n",
      "Requirement already satisfied: charset-normalizer<3,>=2 in c:\\users\\public\\anaconda3\\lib\\site-packages (from requests>=2.20.0->github-clone) (2.1.0)\n",
      "Requirement already satisfied: urllib3<1.27,>=1.21.1 in c:\\users\\public\\anaconda3\\lib\\site-packages (from requests>=2.20.0->github-clone) (1.26.12)\n",
      "Requirement already satisfied: idna<4,>=2.5 in c:\\users\\public\\anaconda3\\lib\\site-packages (from requests>=2.20.0->github-clone) (3.3)\n"
     ]
    },
    {
     "name": "stderr",
     "output_type": "stream",
     "text": [
      "WARNING: Ignoring invalid distribution -yrsistent (c:\\users\\public\\anaconda3\\lib\\site-packages)\n",
      "WARNING: Ignoring invalid distribution -ffi (c:\\users\\public\\anaconda3\\lib\\site-packages)\n",
      "WARNING: Ignoring invalid distribution -yrsistent (c:\\users\\public\\anaconda3\\lib\\site-packages)\n",
      "WARNING: Ignoring invalid distribution -ffi (c:\\users\\public\\anaconda3\\lib\\site-packages)\n",
      "WARNING: Ignoring invalid distribution -yrsistent (c:\\users\\public\\anaconda3\\lib\\site-packages)\n",
      "WARNING: Ignoring invalid distribution -ffi (c:\\users\\public\\anaconda3\\lib\\site-packages)\n",
      "WARNING: Ignoring invalid distribution -yrsistent (c:\\users\\public\\anaconda3\\lib\\site-packages)\n",
      "WARNING: Ignoring invalid distribution -ffi (c:\\users\\public\\anaconda3\\lib\\site-packages)\n",
      "WARNING: Ignoring invalid distribution -yrsistent (c:\\users\\public\\anaconda3\\lib\\site-packages)\n",
      "WARNING: Ignoring invalid distribution -ffi (c:\\users\\public\\anaconda3\\lib\\site-packages)\n",
      "WARNING: Ignoring invalid distribution -yrsistent (c:\\users\\public\\anaconda3\\lib\\site-packages)\n",
      "WARNING: Ignoring invalid distribution -ffi (c:\\users\\public\\anaconda3\\lib\\site-packages)\n"
     ]
    },
    {
     "name": "stdout",
     "output_type": "stream",
     "text": [
      "Cloning into 'segmentation_models_pytorch'...\n",
      "done.\n"
     ]
    },
    {
     "name": "stderr",
     "output_type": "stream",
     "text": [
      "'cp' is not recognized as an internal or external command,\n",
      "operable program or batch file.\n",
      "'rm' is not recognized as an internal or external command,\n",
      "operable program or batch file.\n"
     ]
    }
   ],
   "source": [
    "# Download and install Pytorch for CUDA 10.2\n",
    "!pip install torch torchvision --extra-index-url https://download.pytorch.org/whl/cu102\n",
    "# Download and install Pytorch for CUDA 11.3\n",
    "!pip install torch torchvision --extra-index-url https://download.pytorch.org/whl/cu113\n",
    "    \n",
    "!pip install intern[cloudvolume]\n",
    "!pip install scikit-learn\n",
    "!pip install timm\n",
    "!pip install pretrainedmodels\n",
    "!pip install efficientnet_pytorch\n",
    "\n",
    "# Setting up the segmentation_models.pytorch library\n",
    "!pip install github-clone\n",
    "!ghclone https://github.com/qubvel/segmentation_models.pytorch/tree/master/segmentation_models_pytorch \n",
    "!cp -rf segmentation_models_pytorch ../MTNeuro/.\n",
    "!rm -rf segmentation_models_pytorch\n"
   ]
  },
  {
   "cell_type": "markdown",
   "metadata": {
    "id": "50LV7mP7BXUG"
   },
   "source": [
    "## Specify the Model, Setting and Mode that you want to load"
   ]
  },
  {
   "cell_type": "code",
   "execution_count": 2,
   "metadata": {
    "id": "X_rFC-9pprOk"
   },
   "outputs": [],
   "source": [
    "#Specify the model, class and mode that is preferred (accordingly weights will be downloaded)\n",
    "# ----- 2D Models -----\n",
    "# UNet\n",
    "# smp_UnetPlusPlus\n",
    "# smp_PSPNet\n",
    "# smp_PAN\n",
    "# smp_FPN\n",
    "# smp_MAnet\n",
    "# ----- 3D Models -----\n",
    "# UNet\n",
    "# mzp_HighResNet\n",
    "# mzp_VNetLight\n",
    "\n",
    "Model = 'UNet'         #Eg:- UNet, smp_PAN\n",
    "Setting = '3class'     #Eg:- 3class, 4class\n",
    "Mode = '2D'            #Eg:- 3D, 2D\n",
    "\n",
    "fh = open('config.txt', 'w')\n",
    "fh.write(Model+' '+Setting+' '+Mode)\n",
    "fh.close()"
   ]
  },
  {
   "cell_type": "markdown",
   "metadata": {
    "id": "RnQBWWp9BSi8"
   },
   "source": [
    "## Import required libraries"
   ]
  },
  {
   "cell_type": "code",
   "execution_count": 3,
   "metadata": {
    "id": "LQw55b23qIIL"
   },
   "outputs": [],
   "source": [
    "#import libraries and set random seed\n",
    "import sys\n",
    "import matplotlib.pyplot as plt\n",
    "import numpy as np\n",
    "import json as json\n",
    "from tqdm import tqdm\n",
    "\n",
    "#pytorch imports\n",
    "import torch\n",
    "from torchvision import transforms\n",
    "from torchvision.transforms import ToTensor\n",
    "from torch.utils.data import Dataset, DataLoader\n",
    "from torchvision.utils import make_grid\n",
    "from intern import array\n",
    "\n",
    "#sci-kit learn imports\n",
    "from sklearn.decomposition import PCA\n",
    "from sklearn.manifold import TSNE\n",
    "\n",
    "sys.path.append('../MTNeuro/')            #setting the location to look for the required packages\n",
    "#BossDB library and MTNeuro dataset loader\n",
    "from bossdbdataset import BossDBDataset               \n",
    "\n",
    "from trainer import Trainer                    #trainer function used to train the models\n",
    "from models.unet import UNet                   #UNet model. From: https://github.com/johschmidt42/PyTorch-2D-3D-UNet-Tutorial\n",
    "import segmentation_models_pytorch as smp      #SMP library (used for calculation of performance metrics: https://github.com/qubvel/segmentation_models.pytorch\n",
    "\n",
    "torch.manual_seed(0)\n",
    "np.random.seed(0)"
   ]
  },
  {
   "cell_type": "markdown",
   "metadata": {
    "id": "cYsbDYK2BgDS"
   },
   "source": [
    "## Automatically load the required config jsons\n"
   ]
  },
  {
   "cell_type": "code",
   "execution_count": 4,
   "metadata": {
    "id": "0cAm0W6krI8P"
   },
   "outputs": [],
   "source": [
    "##load the task config for specified mode and setting that specifies the x,y ranges to pick from the data for forming the slices\n",
    "task_config = json.load(open('../MTNeuro/taskconfig/task2_'+str(Mode)+'_'+str(Setting)+'.json'))\n",
    "\n",
    "##Load the network config for the specified mode and setting, with the batch size and model config information\n",
    "network_config = json.load(open('../MTNeuro/networkconfig/'+str(Model)+'_'+str(Mode)+'_'+str(Setting)+'.json'))"
   ]
  },
  {
   "cell_type": "markdown",
   "metadata": {
    "id": "8snEjb_3Bk_l"
   },
   "source": [
    "## Automatically load the required model and weights"
   ]
  },
  {
   "cell_type": "markdown",
   "metadata": {
    "id": "a741Xg1_ByPQ"
   },
   "source": [
    "### Load Model"
   ]
  },
  {
   "cell_type": "code",
   "execution_count": 5,
   "metadata": {
    "colab": {
     "base_uri": "https://localhost:8080/"
    },
    "id": "ML4xV1aRr7cW",
    "outputId": "4a281e0f-27ea-4c18-f895-693587da663d"
   },
   "outputs": [
    {
     "name": "stdout",
     "output_type": "stream",
     "text": [
      "loading UNet model\n"
     ]
    }
   ],
   "source": [
    "# Specify device\n",
    "if torch.cuda.is_available():\n",
    "  device = torch.device('cuda')\n",
    "else:\n",
    "  device = torch.device('cpu')\n",
    "\n",
    "# Specify model\n",
    "if network_config[\"model\"] == \"UNet\":\n",
    "  print('loading UNet model')\n",
    "  model = UNet(in_channels=network_config['in_channels'],\n",
    "                out_channels=network_config['classes'],\n",
    "                n_blocks=network_config['n_blocks'],\n",
    "                start_filters=network_config['start_filters'],\n",
    "                activation=network_config['activation'],\n",
    "                normalization=network_config['normalization'],\n",
    "                conv_mode=network_config['conv_mode'],\n",
    "                dim=network_config['dim']).to(device)\n",
    "\n",
    "if network_config[\"model\"] == \"smp_UnetPlusPlus\":\n",
    "  print('loading UnetPlusPlus model')\n",
    "  model = smp.UnetPlusPlus(\n",
    "            encoder_name=network_config[\"encoder_name\"],        # choose encoder, e.g. mobilenet_v2 or efficientnet-b7\n",
    "            encoder_weights=network_config[\"encoder_weights\"],     # use `imagenet` pre-trained weights for encoder initialization\n",
    "            in_channels=network_config[\"in_channels\"],                  # model input channels (1 for gray-scale images, 3 for RGB, etc.)\n",
    "            classes=network_config[\"classes\"],                      # model output channels (number of classes in your dataset)\n",
    "        ).to(device)\n",
    "\n",
    "if network_config[\"model\"] == \"smp_MAnet\":\n",
    "  print('loading MAnet model')\n",
    "  model = smp.MAnet(\n",
    "            encoder_name=network_config[\"encoder_name\"],        # choose encoder, e.g. mobilenet_v2 or efficientnet-b7\n",
    "            encoder_weights=network_config[\"encoder_weights\"],     # use `imagenet` pre-trained weights for encoder initialization\n",
    "            in_channels=network_config[\"in_channels\"],                  # model input channels (1 for gray-scale images, 3 for RGB, etc.)\n",
    "            classes=network_config[\"classes\"],                      # model output channels (number of classes in your dataset)\n",
    "        ).to(device)\n",
    "\n",
    "if network_config[\"model\"] == \"smp_PAN\":\n",
    "  print('loading PAN model')\n",
    "  model = smp.PAN(\n",
    "            encoder_name=network_config[\"encoder_name\"],        # choose encoder, e.g. mobilenet_v2 or efficientnet-b7\n",
    "            encoder_weights=network_config[\"encoder_weights\"],     # use `imagenet` pre-trained weights for encoder initialization\n",
    "            in_channels=network_config[\"in_channels\"],                  # model input channels (1 for gray-scale images, 3 for RGB, etc.)\n",
    "            classes=network_config[\"classes\"],                      # model output channels (number of classes in your dataset)\n",
    "        ).to(device)\n",
    "\n",
    "if network_config[\"model\"] == \"smp_Linknet\":\n",
    "  print('loading Linknet model')\n",
    "  model = smp.Linknet(\n",
    "            encoder_name=network_config[\"encoder_name\"],        # choose encoder, e.g. mobilenet_v2 or efficientnet-b7\n",
    "            encoder_weights=network_config[\"encoder_weights\"],     # use `imagenet` pre-trained weights for encoder initialization\n",
    "            in_channels=network_config[\"in_channels\"],                  # model input channels (1 for gray-scale images, 3 for RGB, etc.)\n",
    "            classes=network_config[\"classes\"],                      # model output channels (number of classes in your dataset)\n",
    "        ).to(device)\n",
    "\n",
    "if network_config[\"model\"] == \"smp_FPN\":\n",
    "  print('loading FPN model')\n",
    "  model = smp.FPN(\n",
    "            encoder_name=network_config[\"encoder_name\"],        # choose encoder, e.g. mobilenet_v2 or efficientnet-b7\n",
    "            encoder_weights=network_config[\"encoder_weights\"],     # use `imagenet` pre-trained weights for encoder initialization\n",
    "            in_channels=network_config[\"in_channels\"],                  # model input channels (1 for gray-scale images, 3 for RGB, etc.)\n",
    "            classes=network_config[\"classes\"],                      # model output channels (number of classes in your dataset)\n",
    "        ).to(device)\n",
    "\n",
    "if network_config[\"model\"] == \"smp_PSPNet\":\n",
    "  print('loading PSPNet model')\n",
    "  model = smp.PSPNet(\n",
    "            encoder_name=network_config[\"encoder_name\"],        # choose encoder, e.g. mobilenet_v2 or efficientnet-b7\n",
    "            encoder_weights=network_config[\"encoder_weights\"],     # use `imagenet` pre-trained weights for encoder initialization\n",
    "            in_channels=network_config[\"in_channels\"],                  # model input channels (1 for gray-scale images, 3 for RGB, etc.)\n",
    "            classes=network_config[\"classes\"],                      # model output channels (number of classes in your dataset)\n",
    "        ).to(device)\n",
    "\n",
    "if network_config[\"model\"] == \"smp_DeepLabV3Plus\":\n",
    "  print('loading DeepLabV3Plus model')\n",
    "  model = smp.DeepLabV3Plus(\n",
    "            encoder_name=network_config[\"encoder_name\"],        # choose encoder, e.g. mobilenet_v2 or efficientnet-b7\n",
    "            encoder_weights=network_config[\"encoder_weights\"],     # use `imagenet` pre-trained weights for encoder initialization\n",
    "            in_channels=network_config[\"in_channels\"],                  # model input channels (1 for gray-scale images, 3 for RGB, etc.)\n",
    "            classes=network_config[\"classes\"],                      # model output channels (number of classes in your dataset)\n",
    "        ).to(device)\n"
   ]
  },
  {
   "cell_type": "markdown",
   "metadata": {
    "id": "8OA4IZSR86fQ"
   },
   "source": [
    "### Download the right weights automatically"
   ]
  },
  {
   "cell_type": "code",
   "execution_count": 6,
   "metadata": {
    "colab": {
     "base_uri": "https://localhost:8080/"
    },
    "id": "n22xtELH1fHV",
    "outputId": "b07859cd-31ed-49a2-f6ab-3b4600c9a873"
   },
   "outputs": [
    {
     "name": "stdout",
     "output_type": "stream",
     "text": [
      "Hi!\n",
      "Loading UNet 2D 3class\n"
     ]
    },
    {
     "name": "stderr",
     "output_type": "stream",
     "text": [
      "\n",
      "     0K .......... .......... .......... .......... ..........  0% 3.84M 2s\n",
      "    50K .......... .......... .......... .......... ..........  1% 13.2M 1s\n",
      "   100K .......... .......... .......... .......... ..........  1% 7.31M 1s\n",
      "   150K .......... .......... .......... .......... ..........  2% 5.87M 1s\n",
      "   200K .......... .......... .......... .......... ..........  3% 4.37M 1s\n",
      "   250K .......... .......... .......... .......... ..........  3% 11.5M 1s\n",
      "   300K .......... .......... .......... .......... ..........  4% 3.66M 1s\n",
      "   350K .......... .......... .......... .......... ..........  5%  157M 1s\n",
      "   400K .......... .......... .......... .......... ..........  5% 6.91M 1s\n",
      "   450K .......... .......... .......... .......... ..........  6% 3.47M 1s\n",
      "   500K .......... .......... .......... .......... ..........  7% 9.69M 1s\n",
      "   550K .......... .......... .......... .......... ..........  7% 12.7M 1s\n",
      "   600K .......... .......... .......... .......... ..........  8% 9.39M 1s\n",
      "   650K .......... .......... .......... .......... ..........  9% 6.30M 1s\n",
      "   700K .......... .......... .......... .......... ..........  9% 5.09M 1s\n",
      "   750K .......... .......... .......... .......... .......... 10% 2.19M 1s\n",
      "   800K .......... .......... .......... .......... .......... 10% 93.5M 1s\n",
      "   850K .......... .......... .......... .......... .......... 11%  137M 1s\n",
      "   900K .......... .......... .......... .......... .......... 12%  163M 1s\n",
      "   950K .......... .......... .......... .......... .......... 12%  187M 1s\n",
      "  1000K .......... .......... .......... .......... .......... 13% 11.6M 1s\n",
      "  1050K .......... .......... .......... .......... .......... 14% 6.67M 1s\n",
      "  1100K .......... .......... .......... .......... .......... 14% 13.0M 1s\n",
      "  1150K .......... .......... .......... .......... .......... 15% 13.1M 1s\n",
      "  1200K .......... .......... .......... .......... .......... 16% 11.6M 1s\n",
      "  1250K .......... .......... .......... .......... .......... 16% 7.51M 1s\n",
      "  1300K .......... .......... .......... .......... .......... 17% 7.44M 1s\n",
      "  1350K .......... .......... .......... .......... .......... 18% 77.3M 1s\n",
      "  1400K .......... .......... .......... .......... .......... 18%  112M 1s\n",
      "  1450K .......... .......... .......... .......... .......... 19% 8.25M 1s\n",
      "  1500K .......... .......... .......... .......... .......... 19% 8.64M 1s\n",
      "  1550K .......... .......... .......... .......... .......... 20% 18.1M 1s\n",
      "  1600K .......... .......... .......... .......... .......... 21% 10.3M 1s\n",
      "  1650K .......... .......... .......... .......... .......... 21% 9.00M 1s\n",
      "  1700K .......... .......... .......... .......... .......... 22%  152M 1s\n",
      "  1750K .......... .......... .......... .......... .......... 23% 7.67M 1s\n",
      "  1800K .......... .......... .......... .......... .......... 23%  237M 1s\n",
      "  1850K .......... .......... .......... .......... .......... 24% 3.38M 1s\n",
      "  1900K .......... .......... .......... .......... .......... 25% 9.17M 1s\n",
      "  1950K .......... .......... .......... .......... .......... 25%  160M 1s\n",
      "  2000K .......... .......... .......... .......... .......... 26% 9.25M 1s\n",
      "  2050K .......... .......... .......... .......... .......... 27%  162M 1s\n",
      "  2100K .......... .......... .......... .......... .......... 27% 4.39M 1s\n",
      "  2150K .......... .......... .......... .......... .......... 28% 7.38M 1s\n",
      "  2200K .......... .......... .......... .......... .......... 29%  168M 1s\n",
      "  2250K .......... .......... .......... .......... .......... 29% 7.03M 1s\n",
      "  2300K .......... .......... .......... .......... .......... 30% 12.7M 1s\n",
      "  2350K .......... .......... .......... .......... .......... 30% 9.53M 1s\n",
      "  2400K .......... .......... .......... .......... .......... 31%  175M 1s\n",
      "  2450K .......... .......... .......... .......... .......... 32% 6.93M 1s\n",
      "  2500K .......... .......... .......... .......... .......... 32%  153M 1s\n",
      "  2550K .......... .......... .......... .......... .......... 33% 8.41M 1s\n",
      "  2600K .......... .......... .......... .......... .......... 34% 7.78M 1s\n",
      "  2650K .......... .......... .......... .......... .......... 34% 84.7M 1s\n",
      "  2700K .......... .......... .......... .......... .......... 35% 3.88M 1s\n",
      "  2750K .......... .......... .......... .......... .......... 36%  118M 1s\n",
      "  2800K .......... .......... .......... .......... .......... 36% 6.42M 1s\n",
      "  2850K .......... .......... .......... .......... .......... 37%  170M 1s\n",
      "  2900K .......... .......... .......... .......... .......... 38% 4.59M 1s\n",
      "  2950K .......... .......... .......... .......... .......... 38% 62.4M 1s\n",
      "  3000K .......... .......... .......... .......... .......... 39% 3.05M 1s\n",
      "  3050K .......... .......... .......... .......... .......... 39% 87.7M 1s\n",
      "  3100K .......... .......... .......... .......... .......... 40% 11.6M 0s\n",
      "  3150K .......... .......... .......... .......... .......... 41% 7.00M 0s\n",
      "  3200K .......... .......... .......... .......... .......... 41% 8.17M 0s\n",
      "  3250K .......... .......... .......... .......... .......... 42% 8.74M 0s\n",
      "  3300K .......... .......... .......... .......... .......... 43% 92.2M 0s\n",
      "  3350K .......... .......... .......... .......... .......... 43% 9.81M 0s\n",
      "  3400K .......... .......... .......... .......... .......... 44%  139M 0s\n",
      "  3450K .......... .......... .......... .......... .......... 45% 9.43M 0s\n",
      "  3500K .......... .......... .......... .......... .......... 45%  136M 0s\n",
      "  3550K .......... .......... .......... .......... .......... 46% 6.50M 0s\n",
      "  3600K .......... .......... .......... .......... .......... 47% 7.27M 0s\n",
      "  3650K .......... .......... .......... .......... .......... 47%  190M 0s\n",
      "  3700K .......... .......... .......... .......... .......... 48% 5.86M 0s\n",
      "  3750K .......... .......... .......... .......... .......... 48% 22.4M 0s\n",
      "  3800K .......... .......... .......... .......... .......... 49% 5.42M 0s\n",
      "  3850K .......... .......... .......... .......... .......... 50% 12.5M 0s\n",
      "  3900K .......... .......... .......... .......... .......... 50%  217M 0s\n",
      "  3950K .......... .......... .......... .......... .......... 51% 7.10M 0s\n",
      "  4000K .......... .......... .......... .......... .......... 52% 2.69M 0s\n",
      "  4050K .......... .......... .......... .......... .......... 52%  179M 0s\n",
      "  4100K .......... .......... .......... .......... .......... 53%  140M 0s\n",
      "  4150K .......... .......... .......... .......... .......... 54% 8.76M 0s\n",
      "  4200K .......... .......... .......... .......... .......... 54%  162M 0s\n",
      "  4250K .......... .......... .......... .......... .......... 55%  166M 0s\n",
      "  4300K .......... .......... .......... .......... .......... 56% 3.86M 0s\n",
      "  4350K .......... .......... .......... .......... .......... 56% 64.2M 0s\n",
      "  4400K .......... .......... .......... .......... .......... 57% 1.90M 0s\n",
      "  4450K .......... .......... .......... .......... .......... 58%  212M 0s\n",
      "  4500K .......... .......... .......... .......... .......... 58% 2.89M 0s\n",
      "  4550K .......... .......... .......... .......... .......... 59% 82.8M 0s\n",
      "  4600K .......... .......... .......... .......... .......... 59% 8.85M 0s\n",
      "  4650K .......... .......... .......... .......... .......... 60%  155M 0s\n",
      "  4700K .......... .......... .......... .......... .......... 61% 7.27M 0s\n",
      "  4750K .......... .......... .......... .......... .......... 61% 9.32M 0s\n",
      "  4800K .......... .......... .......... .......... .......... 62%  145M 0s\n",
      "  4850K .......... .......... .......... .......... .......... 63% 4.04M 0s\n",
      "  4900K .......... .......... .......... .......... .......... 63%  238M 0s\n",
      "  4950K .......... .......... .......... .......... .......... 64% 9.27M 0s\n",
      "  5000K .......... .......... .......... .......... .......... 65%  201M 0s\n",
      "  5050K .......... .......... .......... .......... .......... 65% 7.41M 0s\n",
      "  5100K .......... .......... .......... .......... .......... 66%  129M 0s\n",
      "  5150K .......... .......... .......... .......... .......... 67% 8.86M 0s\n",
      "  5200K .......... .......... .......... .......... .......... 67% 9.18M 0s\n",
      "  5250K .......... .......... .......... .......... .......... 68%  224M 0s\n",
      "  5300K .......... .......... .......... .......... .......... 68% 8.92M 0s\n",
      "  5350K .......... .......... .......... .......... .......... 69%  172M 0s\n"
     ]
    },
    {
     "name": "stderr",
     "output_type": "stream",
     "text": [
      "  5400K .......... .......... .......... .......... .......... 70% 8.66M 0s\n",
      "  5450K .......... .......... .......... .......... .......... 70% 6.41M 0s\n",
      "  5500K .......... .......... .......... .......... .......... 71%  127M 0s\n",
      "  5550K .......... .......... .......... .......... .......... 72% 6.18M 0s\n",
      "  5600K .......... .......... .......... .......... .......... 72% 2.59M 0s\n",
      "  5650K .......... .......... .......... .......... .......... 73%  160M 0s\n",
      "  5700K .......... .......... .......... .......... .......... 74%  174M 0s\n",
      "  5750K .......... .......... .......... .......... .......... 74%  173M 0s\n",
      "  5800K .......... .......... .......... .......... .......... 75% 9.55M 0s\n",
      "  5850K .......... .......... .......... .......... .......... 76% 5.89M 0s\n",
      "  5900K .......... .......... .......... .......... .......... 76%  215M 0s\n",
      "  5950K .......... .......... .......... .......... .......... 77% 6.44M 0s\n",
      "  6000K .......... .......... .......... .......... .......... 78% 3.76M 0s\n",
      "  6050K .......... .......... .......... .......... .......... 78%  172M 0s\n",
      "  6100K .......... .......... .......... .......... .......... 79% 8.13M 0s\n",
      "  6150K .......... .......... .......... .......... .......... 79% 66.1M 0s\n",
      "  6200K .......... .......... .......... .......... .......... 80% 7.90M 0s\n",
      "  6250K .......... .......... .......... .......... .......... 81%  156M 0s\n",
      "  6300K .......... .......... .......... .......... .......... 81% 10.9M 0s\n",
      "  6350K .......... .......... .......... .......... .......... 82% 7.00M 0s\n",
      "  6400K .......... .......... .......... .......... .......... 83%  168M 0s\n",
      "  6450K .......... .......... .......... .......... .......... 83% 8.71M 0s\n",
      "  6500K .......... .......... .......... .......... .......... 84%  133M 0s\n",
      "  6550K .......... .......... .......... .......... .......... 85% 7.05M 0s\n",
      "  6600K .......... .......... .......... .......... .......... 85% 11.1M 0s\n",
      "  6650K .......... .......... .......... .......... .......... 86% 84.0M 0s\n",
      "  6700K .......... .......... .......... .......... .......... 87% 7.09M 0s\n",
      "  6750K .......... .......... .......... .......... .......... 87%  155M 0s\n",
      "  6800K .......... .......... .......... .......... .......... 88% 6.00M 0s\n",
      "  6850K .......... .......... .......... .......... .......... 88% 23.8M 0s\n",
      "  6900K .......... .......... .......... .......... .......... 89%  108M 0s\n",
      "  6950K .......... .......... .......... .......... .......... 90% 3.65M 0s\n",
      "  7000K .......... .......... .......... .......... .......... 90%  164M 0s\n",
      "  7050K .......... .......... .......... .......... .......... 91%  217M 0s\n",
      "  7100K .......... .......... .......... .......... .......... 92% 11.5M 0s\n",
      "  7150K .......... .......... .......... .......... .......... 92% 89.2M 0s\n",
      "  7200K .......... .......... .......... .......... .......... 93% 2.20M 0s\n",
      "  7250K .......... .......... .......... .......... .......... 94%  197M 0s\n",
      "  7300K .......... .......... .......... .......... .......... 94%  138M 0s\n",
      "  7350K .......... .......... .......... .......... .......... 95% 4.53M 0s\n",
      "  7400K .......... .......... .......... .......... .......... 96%  101M 0s\n",
      "  7450K .......... .......... .......... .......... .......... 96% 6.75M 0s\n",
      "  7500K .......... .......... .......... .......... .......... 97% 57.2M 0s\n",
      "  7550K .......... .......... .......... .......... .......... 97% 11.7M 0s\n",
      "  7600K .......... .......... .......... .......... .......... 98% 9.57M 0s\n",
      "  7650K .......... .......... .......... .......... .......... 99% 7.51M 0s\n",
      "  7700K .......... .......... .......... .......... .......... 99% 12.1M 0s\n",
      "  7750K .....                                                 100% 25.0M=0.8s"
     ]
    }
   ],
   "source": [
    "%%bash\n",
    "IFS=' ' read -r model setting mode <<< `cat config.txt`\n",
    "#echo $model\n",
    "#eho $setting\n",
    "#echo $mode\n",
    "if [ \"$mode\" == \"2D\" ]; then\n",
    "  if [ \"$setting\" == \"3class\" ]; then\n",
    "    if [ \"$model\" == \"UNet\" ]; then\n",
    "      echo \"Hi!\"\n",
    "      echo \"Loading $model $mode $setting\" && wget https://www.dropbox.com/s/7zwh7j43ozui7t1/UNet_2D_3class.pt -q --show-progress --progress=dot\n",
    "    elif [ \"$model\" == \"smp_UnetPlusPlus\" ]; then\n",
    "      echo \"Loading $model $mode $setting\" && wget https://www.dropbox.com/s/r0v3vvwlqelpbac/smp_UnetPlusPlus_3class.pt -q --show-progress --progress=dot\n",
    "    elif [ \"$model\" == \"smp_PSPNet\" ]; then\n",
    "      echo \"Loading $model $mode $setting\" && wget https://www.dropbox.com/s/h4qmkbj7y878ivt/smp_PSPNet_3class.pt -q --show-progress --progress=dot\n",
    "    elif [ \"$model\" == \"smp_PAN\" ]; then\n",
    "      echo \"Loading $model $mode $setting\" && wget https://www.dropbox.com/s/xph537dtsq1qxja/smp_PAN_3class.pt -q --show-progress --progress=dot\n",
    "    elif [ \"$model\" == \"smp_FPN\" ]; then\n",
    "      echo \"Loading $model $mode $setting\" && wget https://www.dropbox.com/s/iu8ute75j4tbpxf/smp_FPN_3class.pt -q --show-progress --progress=dot\n",
    "    elif [ \"$model\" == \"smp_MAnet\" ]; then\n",
    "      echo \"Loading $model $mode $setting\" && wget https://www.dropbox.com/s/d9kll74duwo2cbr/smp_MAnet_3class.pt -q --show-progress --progress=dot\n",
    "    fi\n",
    "  elif [ \"$setting\" == \"4class\" ]; then\n",
    "    if [ \"$model\" == \"UNet\" ]; then\n",
    "      echo \"Loading $model $mode $setting\"\n",
    "      wget https://www.dropbox.com/s/xd0hgpq36hjjt21/UNet_2D_noZI.pt -q --show-progress --progress=dot\n",
    "    elif [ \"$model\" == \"smp_UnetPlusPlus\" ]; then\n",
    "      echo \"Loading $model $mode $setting\"\n",
    "      wget https://www.dropbox.com/s/7rbhu074454h6we/smp_UnetPlusPlus_noZI.pt -q --show-progress --progress=dot\n",
    "    elif [ \"$model\" == \"smp_PSPNet\" ]; then\n",
    "      echo \"Loading $model $mode $setting\"\n",
    "      wget https://www.dropbox.com/s/u043cojfd12xkoc/smp_PSPNet_noZI.pt -q --show-progress --progress=dot\n",
    "    elif [ \"$model\" == \"smp_PAN\" ]; then\n",
    "      echo \"Loading $model $mode $setting\"\n",
    "      wget https://www.dropbox.com/s/w5fi601apllhzka/smp_PAN_noZI.pt -q --show-progress --progress=dot\n",
    "    elif [ \"$model\" == \"smp_FPN\" ]; then\n",
    "      echo \"Loading $model $mode $setting\"\n",
    "      wget https://www.dropbox.com/s/k14btyrs4lif0z0/smp_FPN_noZI.pt -q --show-progress --progress=dot\n",
    "    elif [ \"$model\" == \"smp_MAnet\" ]; then\n",
    "      echo \"Loading $model $mode $setting\"\n",
    "      wget https://www.dropbox.com/s/3qyxozy02app7e6/smp_MAnet_noZI.pt -q --show-progress --progress=dot\n",
    "    fi\n",
    "  fi\n",
    "elif [ \"$mode\" == \"3D\" ]; then\n",
    "  if [ \"$setting\" == \"3class\" ]; then\n",
    "    if [ \"$model\" == \"mzp_HighResNet\" ]; then\n",
    "      echo \"Loading $model $mode $setting\"\n",
    "      wget https://www.dropbox.com/s/ffblz0irsjemvpw/mzp_HighResNet_3D_3class.pt -q --show-progress --progress=dot\n",
    "    elif [ \"$model\" == \"mzp_VNetLight\" ]; then\n",
    "      echo \"Loading $model $mode $setting\"\n",
    "      wget https://www.dropbox.com/s/otrga1kr9lishim/mzp_VNetLight_3D_3class.pt -q --show-progress --progress=dot\n",
    "    elif [ \"$model\" == \"UNet\" ]; then\n",
    "      echo \"Loading $model $mode $setting\"\n",
    "      wget https://www.dropbox.com/s/f5db56f41pcmyxo/UNet_3D_3class.pt -q --show-progress --progress=dot\n",
    "    fi\n",
    "  elif [ \"$setting\" == \"4class\" ]; then\n",
    "    if [ \"$model\" == \"mzp_HighResNet\" ]; then\n",
    "      echo \"Loading $model $mode $setting\"\n",
    "      wget https://www.dropbox.com/s/255medlec507t33/mzp_HighResNet_3D_noZI.pt -q --show-progress --progress=dot\n",
    "    elif [ \"$model\" == \"mzp_VNetLight\" ]; then\n",
    "      echo \"Loading $model $mode $setting\"\n",
    "      wget https://www.dropbox.com/s/1xbmjcvjpi5fix5/mzp_VNetLight_3D_noZI.pt -q --show-progress --progress=dot\n",
    "    elif [ \"$model\" == \"UNet\" ]; then\n",
    "      echo \"Loading $model $model $mode $setting\"\n",
    "      wget https://www.dropbox.com/s/grlqwue5s2sttyb/UNet_3D_noZI.pt -q --show-progress --progress=dot\n",
    "    fi\n",
    "  fi\n",
    "fi"
   ]
  },
  {
   "cell_type": "markdown",
   "metadata": {
    "id": "_g-NVRH0B2HG"
   },
   "source": [
    "### Load Weights"
   ]
  },
  {
   "cell_type": "code",
   "execution_count": 7,
   "metadata": {
    "id": "pGUAaEds-zJA"
   },
   "outputs": [],
   "source": [
    "#load saved weights here. Example path (after download): Models/Task2/2D/UNet_2D/3_Class_Setting/smp_UNet_2D_3class_seed1/UNet_2D_3class.pt\n",
    "#checkpoint = torch.load('Models/Task2/'+str(Mode)+'/'+str(Model)+'/'+str(Setting)+'_Setting/'+str(Model)+'_'+str(Setting)+'_seed1/'+str(Model)+'_'+str(Setting)+'.pt')\n",
    "if Setting=='3class':\n",
    "  checkpoint = torch.load(str(Model)+'_'+str(Mode)+'_'+str(Setting)+'.pt', map_location=torch.device('cpu'))\n",
    "  model.load_state_dict(checkpoint)\n",
    "else:\n",
    "  checkpoint = torch.load(str(Model)+'_'+str(Mode)+'_noZI.pt', map_location=torch.device('cpu'))\n",
    "  model.load_state_dict(checkpoint)"
   ]
  },
  {
   "cell_type": "markdown",
   "metadata": {
    "id": "tHJ6CNC7Hofc"
   },
   "source": [
    "## Loading the Data from BossDB"
   ]
  },
  {
   "cell_type": "code",
   "execution_count": 8,
   "metadata": {
    "colab": {
     "base_uri": "https://localhost:8080/"
    },
    "id": "wCiSUe-9Hori",
    "outputId": "ec518260-0ae3-43d5-a04f-1d0510dbf2df"
   },
   "outputs": [],
   "source": [
    "##Set-up the train dataloader and validation dataloader\n",
    "transform = transforms.Compose([transforms.ToTensor(),])\n",
    "test_data = BossDBDataset(task_config, None, 'val', image_transform=transform, mask_transform=transform)\n",
    "\n",
    "test_dataloader = torch.utils.data.DataLoader(dataset=test_data,\n",
    "                                        batch_size=network_config['batch_size'],\n",
    "                                        shuffle=False)"
   ]
  },
  {
   "cell_type": "markdown",
   "metadata": {
    "id": "svrM6QLZCVLF"
   },
   "source": [
    "## Make Predictions"
   ]
  },
  {
   "cell_type": "markdown",
   "metadata": {
    "id": "iS0QcBMVCYal"
   },
   "source": [
    "### Define function for taking prediction\n"
   ]
  },
  {
   "cell_type": "code",
   "execution_count": 9,
   "metadata": {
    "id": "5NPWEZni-2m4"
   },
   "outputs": [],
   "source": [
    "#function to predict using trained model\n",
    "def predict(img, model, device):\n",
    "        model.eval()\n",
    "        x = img.to(device)  # to torch, send to device\n",
    "        with torch.no_grad():\n",
    "            out = model(x)  # send through model/network\n",
    "\n",
    "        out_argmax = torch.argmax(out, dim=1)  # perform softmax on outputs\n",
    "        return out_argmax"
   ]
  },
  {
   "cell_type": "markdown",
   "metadata": {
    "id": "NzFi3KduHM4k"
   },
   "source": [
    "### Predict on test data\n"
   ]
  },
  {
   "cell_type": "code",
   "execution_count": 10,
   "metadata": {
    "id": "WgUtyIkvA2tI"
   },
   "outputs": [],
   "source": [
    "#batch_iter = tqdm(enumerate(test_dataloader), 'test', total=len(test_dataloader), leave=False)\n",
    "batch_iter = enumerate(test_dataloader)\n",
    "\n",
    "# predict the segmentations of test set\n",
    "tp_tot = torch.empty(0,network_config['classes'])\n",
    "fp_tot = torch.empty(0,network_config['classes'])\n",
    "fn_tot = torch.empty(0,network_config['classes'])\n",
    "tn_tot = torch.empty(0,network_config['classes'])\n",
    "\n",
    "y_ = []\n",
    "x_ = []\n",
    "output_ = []\n",
    "for i, (x, y) in batch_iter:\n",
    "    # x = torch.permute(x, (0, 1, 3, 2))#.float() / 255 # Permute (batch x H x W x C) --> (batch x C x H x W) and cast to float\n",
    "    target = y.to(device) #can do this on CPU\n",
    "    y_.append(y)\n",
    "    x_.append(x.squeeze())\n",
    "    with torch.no_grad():\n",
    "        # get the output image (make prediction)\n",
    "        output = predict(x, model, device)\n",
    "        output_.append(output)\n",
    "        tp_, fp_, fn_, tn_ = smp.metrics.get_stats(output, target, mode='multiclass', num_classes = network_config['classes'])\n",
    "        tp_tot = torch.vstack((tp_tot,tp_))\n",
    "        fp_tot = torch.vstack((fp_tot,fp_))\n",
    "        fn_tot = torch.vstack((fn_tot,fn_))\n",
    "        tn_tot = torch.vstack((tn_tot,tn_))"
   ]
  },
  {
   "cell_type": "markdown",
   "metadata": {
    "id": "gP8gUg7koYK7"
   },
   "source": [
    "#### Visualizing Model Predictions"
   ]
  },
  {
   "cell_type": "code",
   "execution_count": 11,
   "metadata": {
    "colab": {
     "base_uri": "https://localhost:8080/"
    },
    "id": "JR85Qo_ooXts",
    "outputId": "e64ec3e4-feff-4255-f95d-c888c046a26d"
   },
   "outputs": [
    {
     "data": {
      "image/png": "[encoded data removed]",
      "text/plain": [
       "<Figure size 432x288 with 3 Axes>"
      ]
     },
     "metadata": {
      "needs_background": "light"
     },
     "output_type": "display_data"
    }
   ],
   "source": [
    "plt.subplot(1,3,1)\n",
    "plt.imshow(x.squeeze().cpu()[0], cmap='gray')\n",
    "plt.title(\"A Slice\")\n",
    "plt.subplot(1,3,2)\n",
    "plt.imshow(y.squeeze().cpu()[0], vmin=0, vmax=3)\n",
    "plt.title(\"Groundtruth Annotation\")\n",
    "plt.subplot(1,3,3)\n",
    "plt.imshow(output.squeeze().cpu()[0], vmin=0, vmax=3)\n",
    "plt.title(\"Model Prediction\")\n",
    "plt.tight_layout()"
   ]
  },
  {
   "cell_type": "markdown",
   "metadata": {
    "id": "f-SKrH_oofRJ"
   },
   "source": [
    "#### Calculating Performance Metrics"
   ]
  },
  {
   "cell_type": "code",
   "execution_count": 12,
   "metadata": {
    "colab": {
     "base_uri": "https://localhost:8080/"
    },
    "id": "PA-qB6gehyxy",
    "outputId": "eefd1ecd-ef88-410b-cf14-897d9300c688"
   },
   "outputs": [
    {
     "name": "stdout",
     "output_type": "stream",
     "text": [
      "new Accuracy per Class:\n",
      "[0.98390764 0.9836368  0.9843486 ]\n",
      "new Balanced accuracy (No background): 0.9266831278800964\n",
      "new F1-score: [0.9910187 0.7691103 0.8860567] Avg. F1-score: 0.8820618987083435\n",
      "new IoU: [0.98219734 0.6248409  0.7954234 ] Avg. IoU-score: 0.800820529460907\n"
     ]
    }
   ],
   "source": [
    "# Accuracy: (tp + fp) / (fp + tn + fn + tp)\n",
    "acc = (tp_tot.mean(dim=0)+tn_tot.mean(dim=0))/(fp_tot.mean(dim=0)+tn_tot.mean(dim=0)+fn_tot.mean(dim=0)+tp_tot.mean(dim=0)) \n",
    "print('new Accuracy per Class:')\n",
    "print(np.array(acc.cpu()))\n",
    "\n",
    "# Balanced Accuracy:  (Specificity + Sensitivity / 2)\n",
    "spec =  (tn_tot[:,1:].mean())/(fp_tot[:,1:].mean()+tn_tot[:,1:].mean())\n",
    "sens =  (tp_tot[:,1:].mean())/(fn_tot[:,1:].mean()+tp_tot[:,1:].mean())\n",
    "balacc = (spec + sens)/2\n",
    "print(f'new Balanced accuracy (No background): {balacc}')\n",
    "\n",
    "# F1-score: 2* precision * recall / (precision + recall)\n",
    "prec = tp_tot.mean(dim=0)/(fp_tot.mean(dim=0)+tp_tot.mean(dim=0))\n",
    "reca = tp_tot.mean(dim=0)/(fn_tot.mean(dim=0)+tp_tot.mean(dim=0))\n",
    "f1 = (2*reca*prec)/(reca+prec)\n",
    "print(f'new F1-score: {np.array(f1.cpu())} Avg. F1-score: {f1.mean()}')\n",
    "\n",
    "# IoU: tp /(fp + fn + tp)\n",
    "iou = (tp_tot.mean(0))/(fp_tot.mean(0)+fn_tot.mean(0)+tp_tot.mean(0))\n",
    "print(f'new IoU: {np.array(iou.cpu())} Avg. IoU-score: {iou.mean()}')"
   ]
  },
  {
   "cell_type": "markdown",
   "metadata": {
    "id": "6I74-i24Jln7"
   },
   "source": [
    "## Pulling Latent Representations from the Model\n",
    "\n",
    "This implementation currently only works with UNet."
   ]
  },
  {
   "cell_type": "code",
   "execution_count": 13,
   "metadata": {
    "colab": {
     "base_uri": "https://localhost:8080/"
    },
    "id": "PL8L88ghokCD",
    "outputId": "677b8959-c767-42d4-b279-47f57c2f55ce"
   },
   "outputs": [
    {
     "name": "stderr",
     "output_type": "stream",
     "text": [
      "C:\\Users\\Public\\anaconda3\\lib\\site-packages\\sklearn\\manifold\\_t_sne.py:780: FutureWarning: The default initialization in TSNE will change from 'random' to 'pca' in 1.2.\n",
      "  warnings.warn(\n",
      "C:\\Users\\Public\\anaconda3\\lib\\site-packages\\sklearn\\manifold\\_t_sne.py:790: FutureWarning: The default learning rate in TSNE will change from 200.0 to 'auto' in 1.2.\n",
      "  warnings.warn(\n"
     ]
    },
    {
     "data": {
      "text/plain": [
       "<matplotlib.collections.PathCollection at 0x1e182f052b0>"
      ]
     },
     "execution_count": 13,
     "metadata": {},
     "output_type": "execute_result"
    },
    {
     "data": {
      "image/png": "[encoded data removed]",
      "text/plain": [
       "<Figure size 432x288 with 1 Axes>"
      ]
     },
     "metadata": {
      "needs_background": "light"
     },
     "output_type": "display_data"
    }
   ],
   "source": [
    "# Retrieve first batch from the dataloader\n",
    "x, y = next(iter(test_dataloader))\n",
    "# x = torch.permute(x, (0, 1, 3, 2))#.float() /255 # Permute (batch x H x W x C) --> (batch x C x H x W) and cast to float\n",
    "x, y = x.to(device), y.to(device)\n",
    "x_ = x    # Copy the first batch into a temporary variable\n",
    "\n",
    "# Pass the data through the encoder-part of UNet\n",
    "# We are taking the latent features from the bottleneck of the UNet model.\n",
    "for module in model.down_blocks:\n",
    "  x_, _ = module(x_)      # At the end, x_ contains the latent features with shape (8,256,32,32)\n",
    "\n",
    "# Dimensionality reduction models\n",
    "#pca = PCA(n_components=2)\n",
    "tsne = TSNE(n_components=2)\n",
    "\n",
    "# Prepare the latent features for TSNE. We only take the first input image out of 8 in the batch\n",
    "x_flat = torch.flatten(x, start_dim=1).cpu().detach().clone()\n",
    "x_pix = torch.flatten(x_[0], start_dim=1).cpu().detach().clone().T\n",
    "\n",
    "# Transform the features\n",
    "points = tsne.fit_transform(x_pix)\n",
    "\n",
    "# Plot the dimension-reduced features\n",
    "plt.scatter(points[:, 0], points[:, 1])"
   ]
  },
  {
   "cell_type": "code",
   "execution_count": null,
   "metadata": {},
   "outputs": [],
   "source": []
  }
 ],
 "metadata": {
  "accelerator": "GPU",
  "colab": {
   "collapsed_sections": [],
   "provenance": []
  },
  "gpuClass": "standard",
  "kernelspec": {
   "display_name": "Python 3 (ipykernel)",
   "language": "python",
   "name": "python3"
  },
  "language_info": {
   "codemirror_mode": {
    "name": "ipython",
    "version": 3
   },
   "file_extension": ".py",
   "mimetype": "text/x-python",
   "name": "python",
   "nbconvert_exporter": "python",
   "pygments_lexer": "ipython3",
   "version": "3.9.12"
  },
  "vscode": {
   "interpreter": {
    "hash": "9f4108ecf01062aca25e5dc86ed0d2b2584059290a9a8508cbbea0875ac6d25a"
   }
  }
 },
 "nbformat": 4,
 "nbformat_minor": 1
}
